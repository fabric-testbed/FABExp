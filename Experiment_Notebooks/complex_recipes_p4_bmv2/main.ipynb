{
 "cells": [
  {
   "cell_type": "markdown",
   "id": "345aec4e-1894-45f7-8cee-08c8d10e21ba",
   "metadata": {},
   "source": [
    "## Send packets over switches"
   ]
  },
  {
   "cell_type": "code",
   "execution_count": null,
   "id": "e6aaa943-8019-498d-bd78-0b8332beb11b",
   "metadata": {},
   "outputs": [],
   "source": [
    "from state import *\n",
    "from IPython.core.getipython import get_ipython\n",
    "\n",
    "# Import libraries\n",
    "%run ../../setup/include/include_libraries.py\n",
    "# Import selected slice name\n",
    "%run ../../slice_info/selected_slice.py\n",
    "\n",
    "\n",
    "# Import topology_variables\n",
    "\n",
    "# Use the button in the GUI automatically does it for you\n",
    "if os.getenv('SELECTED_SLICE') is not None:\n",
    "    SELECTED_SLICE = os.getenv('SELECTED_SLICE')\n",
    "\n",
    "# If you manually run the notebook, please specify the slice name in the line below\n",
    "# SELECTED_SLICE = 'slice_name'\n",
    "\n",
    "path = f'../../slice_info/{SELECTED_SLICE}/topology_variables.ipynb'\n",
    "get_ipython().run_line_magic('run', path)\n"
   ]
  },
  {
   "cell_type": "markdown",
   "id": "f5e95335-4588-4993-b787-7d5fa49f9b25",
   "metadata": {},
   "source": [
    "## Upload scripts and send packets"
   ]
  },
  {
   "cell_type": "code",
   "execution_count": null,
   "id": "ee94e71f-66c8-431b-9414-e612545fe4bb",
   "metadata": {},
   "outputs": [],
   "source": [
    "slice = fablib.get_slice(name=selected_slice)\n",
    "h1 = slice.get_node(name=h1_name) \n",
    "h2 = slice.get_node(name=h2_name) \n",
    "\n",
    "h1.upload_file('scripts/send.py', 'tutorials/exercises/basic_tunnel/send_modified.py')\n",
    "h2.upload_file('scripts/receive.py', 'tutorials/exercises/basic_tunnel/receive_modified.py')\n",
    "\n",
    "h1.execute('tmux new -d \\'timeout 30 watch -n 5 sudo python3 tutorials/exercises/basic_tunnel/send_modified.py --dst_id 2 10.10.2.2 \"message100\"\\'')\n",
    "print (h2.execute('sudo timeout 30 sudo python3 tutorials/exercises/basic_tunnel/receive_modified.py')[0])"
   ]
  }
 ],
 "metadata": {
  "kernelspec": {
   "display_name": "Python 3 (ipykernel)",
   "language": "python",
   "name": "python3"
  },
  "language_info": {
   "codemirror_mode": {
    "name": "ipython",
    "version": 3
   },
   "file_extension": ".py",
   "mimetype": "text/x-python",
   "name": "python",
   "nbconvert_exporter": "python",
   "pygments_lexer": "ipython3",
   "version": "3.10.6"
  }
 },
 "nbformat": 4,
 "nbformat_minor": 5
}
