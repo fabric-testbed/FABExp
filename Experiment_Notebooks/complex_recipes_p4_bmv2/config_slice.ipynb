{
 "cells": [
  {
   "cell_type": "markdown",
   "id": "320e6c3b-b483-4b6b-90ce-e15eb85c0774",
   "metadata": {},
   "source": [
    "## Set up network and install software"
   ]
  },
  {
   "cell_type": "code",
   "execution_count": null,
   "id": "f584144f-7209-4779-8d26-6a3deaf662db",
   "metadata": {},
   "outputs": [],
   "source": [
    "from state import *\n",
    "from IPython.core.getipython import get_ipython\n",
    "\n",
    "# Import libraries\n",
    "%run ../setup/include/include_libraries.py\n",
    "# Import selected slice name\n",
    "%run ../slice_info/selected_slice.py\n",
    "\n",
    "\n",
    "# Import topology_variables\n",
    "\n",
    "# Use the button in the GUI automatically does it for you\n",
    "if os.getenv('SELECTED_SLICE') is not None:\n",
    "    SELECTED_SLICE = os.getenv('SELECTED_SLICE')\n",
    "\n",
    "# If you manually run the notebook, please specify the slice name in the line below\n",
    "# SELECTED_SLICE = 'slice_name'\n",
    "\n",
    "path = f'../slice_info/{SELECTED_SLICE}/topology_variables.ipynb'\n",
    "get_ipython().run_line_magic('run', path)\n",
    "\n",
    "import write_value\n"
   ]
  },
  {
   "cell_type": "markdown",
   "id": "2c126efa-f4bb-4ecd-9e87-512bf7450acb",
   "metadata": {},
   "source": [
    "## Configure nodes"
   ]
  },
  {
   "cell_type": "code",
   "execution_count": null,
   "id": "e3c0b6f3-7ae1-4957-b098-7d5de8dd46cb",
   "metadata": {},
   "outputs": [],
   "source": [
    "success = True\n",
    "try:\n",
    "    slice = fablib.get_slice(name=selected_slice)\n",
    "    config_threads = {}\n",
    "    host_config_script = \"sudo apt-get update -qq && sudo apt-get install -qq -y python3-scapy && git clone https://github.com/p4lang/tutorials.git/\" \n",
    "    h1 = slice.get_node(name=h1_name)        \n",
    "    if type(ip_address(h1.get_management_ip())) is IPv6Address:\n",
    "        h1.execute(\"sudo sed -i '/nameserver/d' /etc/resolv.conf && sudo sh -c 'echo nameserver 2a00:1098:2c::1 >> /etc/resolv.conf' && sudo sh -c 'echo nameserver 2a01:4f8:c2c:123f::1 >> /etc/resolv.conf' && sudo sh -c 'echo nameserver 2a00:1098:2b::1 >> /etc/resolv.conf'\")\n",
    "       \n",
    "    h1_os_iface = h1.get_interface(network_name=net_h1_name)\n",
    "    h1_os_iface.ip_addr_add(addr=h1_addr, subnet=h1_subnet)\n",
    "    h1_config_thread = h1.execute_thread(host_config_script)\n",
    "    config_threads[h1] = h1_config_thread\n",
    "\n",
    "    \n",
    "    h2 = slice.get_node(name=h2_name)\n",
    "    if type(ip_address(h2.get_management_ip())) is IPv6Address:\n",
    "        h2.execute(\"sudo sed -i '/nameserver/d' /etc/resolv.conf && sudo sh -c 'echo nameserver 2a00:1098:2c::1 >> /etc/resolv.conf' && sudo sh -c 'echo nameserver 2a01:4f8:c2c:123f::1 >> /etc/resolv.conf' && sudo sh -c 'echo nameserver 2a00:1098:2b::1 >> /etc/resolv.conf'\")\n",
    " \n",
    "    h2_os_iface = h2.get_interface(network_name=net_h2_name)\n",
    "    h2_os_iface.ip_addr_add(addr=h2_addr, subnet=h2_subnet)\n",
    "    h2_config_thread = h2.execute_thread(host_config_script)\n",
    "    config_threads[h2] = h2_config_thread\n",
    "\n",
    "    h3 = slice.get_node(name=h3_name)\n",
    "    if type(ip_address(h3.get_management_ip())) is IPv6Address:\n",
    "        h3.execute(\"sudo sed -i '/nameserver/d' /etc/resolv.conf && sudo sh -c 'echo nameserver 2a00:1098:2c::1 >> /etc/resolv.conf' && sudo sh -c 'echo nameserver 2a01:4f8:c2c:123f::1 >> /etc/resolv.conf' && sudo sh -c 'echo nameserver 2a00:1098:2b::1 >> /etc/resolv.conf'\")\n",
    " \n",
    "    h3_os_iface = h3.get_interface(network_name=net_h3_name)\n",
    "    h3_os_iface.ip_addr_add(addr=h3_addr, subnet=h3_subnet)\n",
    "    h3_config_thread = h3.execute_thread(host_config_script)\n",
    "    config_threads[h3] = h3_config_thread\n",
    "\n",
    "\n",
    "    \n",
    "except Exception as e:\n",
    "    print(f\"Exception: {e}\")\n",
    "    success = False\n",
    "    raise SystemExit(\"Stopping notebook execution due to exception\")"
   ]
  },
  {
   "cell_type": "markdown",
   "id": "73e984f9-8ece-40e7-9f79-6bfad347f2bb",
   "metadata": {},
   "source": [
    "## Configure switches"
   ]
  },
  {
   "cell_type": "code",
   "execution_count": null,
   "id": "f951a7bb-4507-4c41-8205-6386681aaafd",
   "metadata": {},
   "outputs": [],
   "source": [
    "try:\n",
    "    s1 = slice.get_node(name=s1_name)\n",
    "    s1_h1_os_iface = s1.get_interface(network_name=net_h1_name)\n",
    "    s1_s2_os_iface = s1.get_interface(network_name=net_s1_s2_name)\n",
    "    s1_s3_os_iface = s1.get_interface(network_name=net_s1_s3_name)\n",
    "        \n",
    "    if type(ip_address(s1.get_management_ip())) is IPv4Address:\n",
    "        management_ip_type = \"IPv4\"\n",
    "    else:\n",
    "        management_ip_type = \"IPv6\"\n",
    "    \n",
    "    file_attributes = s1.upload_file('./scripts/router_setup_p4_bmv2_container.sh','router_setup_p4_bmv2_container.sh')\n",
    "    command=f\"chmod +x router_setup_p4_bmv2_container.sh && sudo sh -c './router_setup_p4_bmv2_container.sh  {management_ip_type} {s1_h1_os_iface.get_os_interface()} {s1_s2_os_iface.get_os_interface()} {s1_s3_os_iface.get_os_interface()}  > /tmp/script.log 2>&1'\"\n",
    "    s1_config_thread = s1.execute_thread(command)\n",
    "    config_threads[s1] = s1_config_thread\n",
    "    \n",
    "    \n",
    "    \n",
    "    s2 = slice.get_node(name=s2_name)\n",
    "    s2_h2_os_iface = s2.get_interface(network_name=net_h2_name)\n",
    "    s2_s1_os_iface = s2.get_interface(network_name=net_s1_s2_name)\n",
    "    s2_s3_os_iface = s2.get_interface(network_name=net_s2_s3_name)\n",
    "\n",
    "    if type(ip_address(s2.get_management_ip())) is IPv4Address:\n",
    "        management_ip_type = \"IPv4\"\n",
    "    else:\n",
    "        management_ip_type = \"IPv6\"\n",
    "    \n",
    "    file_attributes = s2.upload_file('scripts/router_setup_p4_bmv2_container.sh','router_setup_p4_bmv2_container.sh')\n",
    "    command= f\"chmod +x router_setup_p4_bmv2_container.sh && sudo sh -c './router_setup_p4_bmv2_container.sh  {management_ip_type} {s2_h2_os_iface.get_os_interface()} {s2_s1_os_iface.get_os_interface()} {s2_s3_os_iface.get_os_interface()}  > /tmp/script.log 2>&1'\"\n",
    "    s2_config_thread = s2.execute_thread(command)\n",
    "    config_threads[s2] = s2_config_thread\n",
    "    \n",
    "    s3 = slice.get_node(name=s3_name)\n",
    "    s3_h3_os_iface = s3.get_interface(network_name=net_h3_name)\n",
    "    s3_s1_os_iface = s3.get_interface(network_name=net_s1_s3_name)\n",
    "    s3_s2_os_iface = s3.get_interface(network_name=net_s2_s3_name)\n",
    "\n",
    "    if type(ip_address(s3.get_management_ip())) is IPv4Address:\n",
    "        management_ip_type = \"IPv4\"\n",
    "    else:\n",
    "        management_ip_type = \"IPv6\"\n",
    "     \n",
    "    file_attributes = s3.upload_file('scripts/router_setup_p4_bmv2_container.sh','router_setup_p4_bmv2_container.sh')\n",
    "    command = f\"chmod +x router_setup_p4_bmv2_container.sh && sudo sh -c './router_setup_p4_bmv2_container.sh  {management_ip_type} {s3_h3_os_iface.get_os_interface()} {s3_s1_os_iface.get_os_interface()} {s3_s2_os_iface.get_os_interface()} > /tmp/script.log 2>&1'\"\n",
    "    s3_config_thread = s3.execute_thread(command)\n",
    "    config_threads[s3] = s3_config_thread\n",
    "    \n",
    "    \n",
    "    for node, thread in config_threads.items():\n",
    "        stdout, stderr = thread.result()\n",
    "        print(f\"Config thread node {node.get_name()} complete\")\n",
    "        print(f\"stdout: {stdout}\")\n",
    "        print(f\"stderr: {stderr}\")\n",
    "    \n",
    "\n",
    "\n",
    "except Exception as e:\n",
    "    success = False\n",
    "    print(f\"Error: {e}\")"
   ]
  },
  {
   "cell_type": "markdown",
   "id": "73688bea-cf13-4afb-8c9d-2fc3f5af5d22",
   "metadata": {},
   "source": [
    "## Configure p4 switch tables"
   ]
  },
  {
   "cell_type": "code",
   "execution_count": null,
   "id": "1fb65b21-cea7-4e06-b8e8-fbb3643a6e82",
   "metadata": {},
   "outputs": [],
   "source": [
    "try:\n",
    "    for switch_name in [s1_name, s2_name, s3_name]:\n",
    "        switch_node = slice.get_node(name=switch_name)\n",
    "        management_ip_switch = str(switch_node.get_management_ip())\n",
    "        print(\"Swtitch Name        : {}\".format(switch_node.get_name()))\n",
    "        print(\"Management IP    : {}\".format(management_ip_switch))\n",
    "    \n",
    "        #Configure P4 Tables\n",
    "        cmd_file=f'{switch_name}_commands.txt'\n",
    "        print(cmd_file)\n",
    "        file_attributes = switch_node.upload_file(f'scripts/{cmd_file}',cmd_file)\n",
    "        print(\"file_attributes: {}\".format(file_attributes))\n",
    "\n",
    "        stdout = switch_node.execute(f\"sudo sh -c 'cat {cmd_file} | docker exec -i fabric_p4 simple_switch_CLI'\")\n",
    "        print(\"stdout: {}\".format(stdout))\n",
    "except Exception as e:\n",
    "    success = False\n",
    "    print(f\"Error: {e}\")"
   ]
  },
  {
   "cell_type": "markdown",
   "id": "64c5608e-8810-4b8f-8378-86f9a1b945a8",
   "metadata": {},
   "source": [
    "## Update state"
   ]
  },
  {
   "cell_type": "code",
   "execution_count": null,
   "id": "ffd66bc1-6f2a-4d8a-b265-83b913f1b43a",
   "metadata": {},
   "outputs": [],
   "source": [
    "if success:\n",
    "    update_state_local(selected_slice, 'SLICE_CONFIGURED')\n",
    "    update_state_in_fim(selected_slice, read_state_from_local(selected_slice))\n",
    "else:\n",
    "    print ('State is not updated due to error.')"
   ]
  }
 ],
 "metadata": {
  "kernelspec": {
   "display_name": "Python 3 (ipykernel)",
   "language": "python",
   "name": "python3"
  },
  "language_info": {
   "codemirror_mode": {
    "name": "ipython",
    "version": 3
   },
   "file_extension": ".py",
   "mimetype": "text/x-python",
   "name": "python",
   "nbconvert_exporter": "python",
   "pygments_lexer": "ipython3",
   "version": "3.10.6"
  }
 },
 "nbformat": 4,
 "nbformat_minor": 5
}
