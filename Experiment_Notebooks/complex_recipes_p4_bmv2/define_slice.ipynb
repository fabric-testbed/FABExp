{
 "cells": [
  {
   "cell_type": "markdown",
   "id": "dc9dc264-1aec-42af-b239-07fb07115556",
   "metadata": {},
   "source": [
    "## Define Slice Topology"
   ]
  },
  {
   "cell_type": "markdown",
   "id": "857363cd-6695-415f-95b8-cebc9a421075",
   "metadata": {},
   "source": [
    "### Imports "
   ]
  },
  {
   "cell_type": "code",
   "execution_count": null,
   "id": "cea99090-28e9-4451-b645-b573f5d9ff23",
   "metadata": {},
   "outputs": [],
   "source": [
    "# Import libraries\n",
    "%run ../setup/include/include_libraries.py\n",
    "# load general variables\n",
    "%run ../setup/config/load_variables.py\n",
    "# load topology variables\n",
    "%run topology_variables.ipynb\n",
    "\n",
    "from state import *\n",
    "import write_value"
   ]
  },
  {
   "cell_type": "markdown",
   "id": "1cb5b2c5-479f-4b8a-bc95-fcb7bd4c18e8",
   "metadata": {},
   "source": [
    "### Slice Topology"
   ]
  },
  {
   "cell_type": "code",
   "execution_count": null,
   "id": "b67ff7db-76bc-4e93-a7ab-2d054604dc4a",
   "metadata": {},
   "outputs": [],
   "source": [
    "try:\n",
    "    #Create Slice\n",
    "    slice = fablib.new_slice(name=slice_name)\n",
    "    \n",
    "    [site1,site2,site3] = fablib.get_random_sites(count=3)\n",
    "\n",
    "    \n",
    "    if (h1_site == '' and s1_site == ''):\n",
    "        hs1_site = site1\n",
    "        write_value.write_value_to_file('topology_variables.ipynb', 'h1_site', hs1_site)\n",
    "        write_value.write_value_to_file('topology_variables.ipynb', 's1_site', hs1_site)\n",
    "    if (h2_site =='' and s2_site == ''):\n",
    "        hs2_site = site2\n",
    "        write_value.write_value_to_file('topology_variables.ipynb', 'h2_site', hs2_site)\n",
    "        write_value.write_value_to_file('topology_variables.ipynb', 's2_site', hs2_site)\n",
    "        \n",
    "    if (h3_site =='' and s3_site == ''):\n",
    "        hs3_site = site1\n",
    "        write_value.write_value_to_file('topology_variables.ipynb', 'h3_site', hs3_site)\n",
    "        write_value.write_value_to_file('topology_variables.ipynb', 's3_site', hs3_site)\n",
    "        \n",
    "    # Add switch node s1\n",
    "    s1 = slice.add_node(name=s1_name, site=hs1_site,  image=image, \n",
    "                        cores=switch_cores, ram=switch_ram, disk=switch_disk)\n",
    "    s1.set_capacities(cores=switch_cores, ram=switch_ram, disk=switch_disk)\n",
    "    s1_iface_local = s1.add_component(model=nic_model, name=s1_nic1_name).get_interfaces()[0]\n",
    "    s1_iface_to_s2 = s1.add_component(model=nic_model, name=s1_nic2_name).get_interfaces()[0]\n",
    "    s1_iface_to_s3 = s1.add_component(model=nic_model, name=s1_nic3_name).get_interfaces()[0]\n",
    "\n",
    "    # Add switch node s2\n",
    "    s2 = slice.add_node(name=s2_name, site=site2,  image=image, \n",
    "                        cores=switch_cores, ram=switch_ram, disk=switch_disk)\n",
    "    s2_iface_local = s2.add_component(model=nic_model, name=s2_nic1_name).get_interfaces()[0]\n",
    "    s2_iface_to_s1 = s2.add_component(model=nic_model, name=s2_nic2_name).get_interfaces()[0]\n",
    "    s2_iface_to_s3 = s2.add_component(model=nic_model, name=s2_nic3_name).get_interfaces()[0]\n",
    "    \n",
    "    # Add switch node s3\n",
    "    s3 = slice.add_node(name=s3_name, site=site3,  image=image, \n",
    "                        cores=switch_cores, ram=switch_ram, disk=switch_disk)\n",
    "    s3_iface_local = s3.add_component(model=nic_model, name=s3_nic1_name).get_interfaces()[0]\n",
    "    s3_iface_to_s1 = s3.add_component(model=nic_model, name=s3_nic2_name).get_interfaces()[0]\n",
    "    s3_iface_to_s2 = s3.add_component(model=nic_model, name=s3_nic3_name).get_interfaces()[0]    \n",
    "    \n",
    "    # Add host node h1\n",
    "    h1 = slice.add_node(name=h1_name, site=site1, image=image,\n",
    "                        cores=host_cores, ram=host_ram, disk=host_disk)\n",
    "    h1_iface = h1.add_component(model=nic_model, name=h1_nic_name).get_interfaces()[0]\n",
    "    \n",
    "    # Add host node h2\n",
    "    h2 = slice.add_node(name=h2_name, site=site2, image=image,\n",
    "                        cores=host_cores, ram=host_ram, disk=host_disk)\n",
    "    h2_iface = h2.add_component(model=nic_model, name=h2_nic_name).get_interfaces()[0]\n",
    "    \n",
    "    # Add host node h3\n",
    "    h3 = slice.add_node(name=h3_name, site=site3, image=image,\n",
    "                        cores=host_cores, ram=host_ram, disk=host_disk)\n",
    "    h3_iface = h3.add_component(model=nic_model, name=h3_nic_name).get_interfaces()[0]\n",
    "    \n",
    "    #Add swtich networks\n",
    "    switch_net1 = slice.add_l2network(name=net_s1_s2_name, interfaces=[s1_iface_to_s2, s2_iface_to_s1])\n",
    "    swtich_net2 = slice.add_l2network(name=net_s2_s3_name, interfaces=[s2_iface_to_s3, s3_iface_to_s2])\n",
    "    swtich_net3 = slice.add_l2network(name=net_s1_s3_name, interfaces=[s3_iface_to_s1, s1_iface_to_s3])\n",
    "\n",
    "    #Add host networks \n",
    "    host_net1 = slice.add_l2network(name=net_h1_name, interfaces=[s1_iface_local, h1_iface])\n",
    "    host_net2 = slice.add_l2network(name=net_h2_name, interfaces=[s2_iface_local, h2_iface])\n",
    "    host_net3 = slice.add_l2network(name=net_h3_name, interfaces=[s3_iface_local, h3_iface])\n",
    "    \n",
    "    success = True\n",
    "    \n",
    "except Exception as e:\n",
    "    print(f\"Exception: {e}\")\n",
    "    success = False\n",
    "    raise SystemExit(\"Stopping notebook execution due to exception\")"
   ]
  },
  {
   "cell_type": "markdown",
   "id": "6bead902-838f-4f94-ba8e-6dfa641dddec",
   "metadata": {},
   "source": [
    "### Set State to \"SLICE_DEFINED\" "
   ]
  },
  {
   "cell_type": "code",
   "execution_count": null,
   "id": "6855cec7-fef2-40b7-b511-31fa4d381fcb",
   "metadata": {},
   "outputs": [],
   "source": [
    "if success:\n",
    "    state_data = {'slice_name': slice_name, 'state': ['SLICE_DEFINED']}\n",
    "    set_state_local(state_data)\n",
    "else:\n",
    "    print ('State is not updated due to error')"
   ]
  }
 ],
 "metadata": {
  "kernelspec": {
   "display_name": "Python 3 (ipykernel)",
   "language": "python",
   "name": "python3"
  },
  "language_info": {
   "codemirror_mode": {
    "name": "ipython",
    "version": 3
   },
   "file_extension": ".py",
   "mimetype": "text/x-python",
   "name": "python",
   "nbconvert_exporter": "python",
   "pygments_lexer": "ipython3",
   "version": "3.10.6"
  }
 },
 "nbformat": 4,
 "nbformat_minor": 5
}
