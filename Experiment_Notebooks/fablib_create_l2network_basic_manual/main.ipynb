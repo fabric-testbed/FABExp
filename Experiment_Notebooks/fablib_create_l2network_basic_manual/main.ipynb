{
 "cells": [
  {
   "cell_type": "markdown",
   "id": "24460069-0c3b-4910-b904-fdcae41e6bdc",
   "metadata": {},
   "source": [
    "## Run ping experiment from node1 to node2"
   ]
  },
  {
   "cell_type": "code",
   "execution_count": null,
   "id": "4037ced2-24fa-47db-8d24-56c1d0460b96",
   "metadata": {},
   "outputs": [],
   "source": [
    "from state import *\n",
    "from IPython.core.getipython import get_ipython\n",
    "\n",
    "# Import libraries\n",
    "%run ../../setup/include/include_libraries.py\n",
    "# Import selected slice name\n",
    "%run ../../slice_info/selected_slice.py\n",
    "\n",
    "\n",
    "# Import topology_variables\n",
    "\n",
    "# Use the button in the GUI automatically does it for you\n",
    "if os.getenv('SELECTED_SLICE') is not None:\n",
    "    SELECTED_SLICE = os.getenv('SELECTED_SLICE')\n",
    "\n",
    "# If you manually run the notebook, please specify the slice name in the line below\n",
    "# SELECTED_SLICE = 'slice_name'\n",
    "\n",
    "path = f'../../slice_info/{SELECTED_SLICE}/topology_variables.ipynb'\n",
    "get_ipython().run_line_magic('run', path)\n",
    "\n"
   ]
  },
  {
   "cell_type": "code",
   "execution_count": null,
   "id": "ee94e71f-66c8-431b-9414-e612545fe4bb",
   "metadata": {},
   "outputs": [],
   "source": [
    "print ('Running ping from node1 to node2 address')\n",
    "slice = fablib.get_slice(name=selected_slice)\n",
    "node1 = slice.get_node(name=node1_name)        \n",
    "stdout, stderr = node1.execute(f'ping -c 5 {node2_addr}')"
   ]
  }
 ],
 "metadata": {
  "kernelspec": {
   "display_name": "Python 3 (ipykernel)",
   "language": "python",
   "name": "python3"
  },
  "language_info": {
   "codemirror_mode": {
    "name": "ipython",
    "version": 3
   },
   "file_extension": ".py",
   "mimetype": "text/x-python",
   "name": "python",
   "nbconvert_exporter": "python",
   "pygments_lexer": "ipython3",
   "version": "3.10.6"
  }
 },
 "nbformat": 4,
 "nbformat_minor": 5
}
