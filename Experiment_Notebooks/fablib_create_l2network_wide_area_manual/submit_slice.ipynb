{
 "cells": [
  {
   "cell_type": "markdown",
   "id": "1e5cc609-38f1-4495-ad20-7e7d7aad4160",
   "metadata": {},
   "source": [
    "## Submit Slice"
   ]
  },
  {
   "cell_type": "markdown",
   "id": "4a3c39ee-4771-43fc-b042-3d3d2113910e",
   "metadata": {},
   "source": [
    "### Load slice from define_slice.ipynb"
   ]
  },
  {
   "cell_type": "code",
   "execution_count": null,
   "id": "7c3e3a89-7011-43fb-b3d0-0132830e662b",
   "metadata": {},
   "outputs": [],
   "source": [
    "from state import *\n",
    "\n",
    "%run define_slice.ipynb"
   ]
  },
  {
   "cell_type": "markdown",
   "id": "cb40f3b1-5049-4e80-ada7-1c0b6e4bf991",
   "metadata": {},
   "source": [
    "### Submit Slice"
   ]
  },
  {
   "cell_type": "code",
   "execution_count": null,
   "id": "e0d786cc-678a-43b1-93b5-17cb9515a69a",
   "metadata": {},
   "outputs": [],
   "source": [
    "%%time\n",
    "try:\n",
    "    # Submit Slice Request\n",
    "    print(f'Submitting the new slice, \"{slice_name}\"...')\n",
    "    slice.submit(wait_interval=60)\n",
    "    print(f'{slice_name} creation done.')\n",
    "    success=True\n",
    "\n",
    "except Exception as e:\n",
    "    print(f\"Slice Fail: {e}\")\n",
    "    success=False\n",
    "    raise SystemExit(\"Stopping notebook execution due to exception\")"
   ]
  },
  {
   "cell_type": "markdown",
   "id": "699fd464-718b-46f3-ae15-58e8a1b10caf",
   "metadata": {},
   "source": [
    "### Append 'SLICE_SUBMITTED' to State"
   ]
  },
  {
   "cell_type": "code",
   "execution_count": null,
   "id": "312e7ffa-cbf3-4486-8aa2-43ba42c63cc9",
   "metadata": {},
   "outputs": [],
   "source": [
    "if (slice_name in [s.slice_name for s in fablib.get_slices()] and success is True):\n",
    "    update_state_local(slice_name, 'SLICE_SUBMITTED')\n",
    "    update_state_in_fim(slice_name, read_state_from_local(slice_name))\n",
    "else:\n",
    "    print ('State is not updated due to error')"
   ]
  }
 ],
 "metadata": {
  "kernelspec": {
   "display_name": "Python 3 (ipykernel)",
   "language": "python",
   "name": "python3"
  },
  "language_info": {
   "codemirror_mode": {
    "name": "ipython",
    "version": 3
   },
   "file_extension": ".py",
   "mimetype": "text/x-python",
   "name": "python",
   "nbconvert_exporter": "python",
   "pygments_lexer": "ipython3",
   "version": "3.10.6"
  }
 },
 "nbformat": 4,
 "nbformat_minor": 5
}
