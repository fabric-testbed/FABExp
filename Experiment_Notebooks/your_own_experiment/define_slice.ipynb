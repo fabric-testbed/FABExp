{
 "cells": [
  {
   "cell_type": "markdown",
   "id": "dc9dc264-1aec-42af-b239-07fb07115556",
   "metadata": {},
   "source": [
    "## Define Slice Topology"
   ]
  },
  {
   "cell_type": "markdown",
   "id": "857363cd-6695-415f-95b8-cebc9a421075",
   "metadata": {},
   "source": [
    "### Imports "
   ]
  },
  {
   "cell_type": "code",
   "execution_count": null,
   "id": "cea99090-28e9-4451-b645-b573f5d9ff23",
   "metadata": {},
   "outputs": [],
   "source": [
    "# Import libraries\n",
    "%run ../setup/include/include_libraries.py\n",
    "# load general variables\n",
    "%run ../setup/config/load_variables.py\n",
    "# load topology variables    \n",
    "%run topology_variables.ipynb\n",
    "\n",
    "from state import *\n",
    "import write_value"
   ]
  },
  {
   "cell_type": "markdown",
   "id": "1cb5b2c5-479f-4b8a-bc95-fcb7bd4c18e8",
   "metadata": {},
   "source": [
    "### Slice Topology"
   ]
  },
  {
   "cell_type": "code",
   "execution_count": null,
   "id": "b67ff7db-76bc-4e93-a7ab-2d054604dc4a",
   "metadata": {},
   "outputs": [],
   "source": [
    "success = True\n",
    "try:\n",
    "    # Your code here only in this cell\n",
    "    # ......\n",
    "    \n",
    "    # Example code\n",
    "    # Create Slice\n",
    "    # slice = fablib.new_slice(name=slice_name)\n",
    "    # node = slice.add_node(name=node1_name)\n",
    "    \n",
    "    \n",
    "except Exception as e:\n",
    "    print(f\"Exception: {e}\")\n",
    "    success = False\n",
    "    raise SystemExit(\"Stopping notebook execution due to exception\")"
   ]
  },
  {
   "cell_type": "markdown",
   "id": "6bead902-838f-4f94-ba8e-6dfa641dddec",
   "metadata": {},
   "source": [
    "### Set State to \"SLICE_DEFINED\" "
   ]
  },
  {
   "cell_type": "code",
   "execution_count": null,
   "id": "6855cec7-fef2-40b7-b511-31fa4d381fcb",
   "metadata": {},
   "outputs": [],
   "source": [
    "if success is True:\n",
    "    state_data = {'slice_name': slice_name, 'state': ['SLICE_DEFINED']}\n",
    "    set_state_local(state_data)\n",
    "else:\n",
    "    print ('State is not updated due to error')"
   ]
  }
 ],
 "metadata": {
  "kernelspec": {
   "display_name": "Python 3 (ipykernel)",
   "language": "python",
   "name": "python3"
  },
  "language_info": {
   "codemirror_mode": {
    "name": "ipython",
    "version": 3
   },
   "file_extension": ".py",
   "mimetype": "text/x-python",
   "name": "python",
   "nbconvert_exporter": "python",
   "pygments_lexer": "ipython3",
   "version": "3.10.6"
  }
 },
 "nbformat": 4,
 "nbformat_minor": 5
}
