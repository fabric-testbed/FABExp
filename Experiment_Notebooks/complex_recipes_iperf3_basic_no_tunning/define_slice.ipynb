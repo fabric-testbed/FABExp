{
 "cells": [
  {
   "cell_type": "markdown",
   "id": "dc9dc264-1aec-42af-b239-07fb07115556",
   "metadata": {},
   "source": [
    "## Define Slice Topology"
   ]
  },
  {
   "cell_type": "markdown",
   "id": "857363cd-6695-415f-95b8-cebc9a421075",
   "metadata": {},
   "source": [
    "### Imports "
   ]
  },
  {
   "cell_type": "code",
   "execution_count": null,
   "id": "cea99090-28e9-4451-b645-b573f5d9ff23",
   "metadata": {},
   "outputs": [],
   "source": [
    "# Import libraries\n",
    "%run ../setup/include/include_libraries.py\n",
    "# load general variables\n",
    "%run ../setup/config/load_variables.py\n",
    "# load topology variables\n",
    "%run topology_variables.ipynb\n",
    "\n",
    "from state import *\n",
    "import write_value"
   ]
  },
  {
   "cell_type": "markdown",
   "id": "1cb5b2c5-479f-4b8a-bc95-fcb7bd4c18e8",
   "metadata": {},
   "source": [
    "### Slice Topology"
   ]
  },
  {
   "cell_type": "code",
   "execution_count": null,
   "id": "b67ff7db-76bc-4e93-a7ab-2d054604dc4a",
   "metadata": {},
   "outputs": [],
   "source": [
    "try:\n",
    "    #Create Slice\n",
    "    slice = fablib.new_slice(name=slice_name)\n",
    "    \n",
    "    [site1,site2]  = fablib.get_random_sites(count=2)\n",
    "    \n",
    "    if (node1_site ==''):\n",
    "        node1_site = site1\n",
    "        write_value.write_value_to_file('topology_variables.ipynb', 'node1_site', node1_site)\n",
    "    if (node2_site ==''):\n",
    "        node2_site = site2\n",
    "        write_value.write_value_to_file('topology_variables.ipynb', 'node2_site', node2_site)\n",
    "    \n",
    "    # Node1\n",
    "    node1 = slice.add_node(name=node1_name, cores=node1_cores, ram=node1_ram, site=node1_site, image=node1_image)\n",
    "    node1.add_fabnet()\n",
    "    node1.add_post_boot_upload_directory('node_tools','.')\n",
    "    node1.add_post_boot_execute('sudo node_tools/host_tune.sh')\n",
    "    node1.add_post_boot_execute('node_tools/enable_docker.sh {{ _self_.image }} ')\n",
    "    node1.add_post_boot_execute('docker pull fabrictestbed/slice-vm-rocky8-multitool:0.0.2 ')\n",
    "\n",
    "\n",
    "    # Node2\n",
    "    node2 = slice.add_node(name=node2_name, cores=node2_cores, ram=node2_ram, site=node2_site, image=node2_image)\n",
    "    node2.add_fabnet()\n",
    "    node2.add_post_boot_upload_directory('node_tools','.')\n",
    "    node2.add_post_boot_execute('sudo node_tools/host_tune.sh')\n",
    "    node2.add_post_boot_execute('node_tools/enable_docker.sh {{ _self_.image }} ')\n",
    "    node2.add_post_boot_execute('docker pull fabrictestbed/slice-vm-rocky8-multitool:0.0.2 ')\n",
    "\n",
    "    \n",
    "    success = True\n",
    "    \n",
    "except Exception as e:\n",
    "    print(f\"Exception: {e}\")\n",
    "    success = False\n",
    "    raise SystemExit(\"Stopping notebook execution due to exception\")"
   ]
  },
  {
   "cell_type": "markdown",
   "id": "6bead902-838f-4f94-ba8e-6dfa641dddec",
   "metadata": {},
   "source": [
    "### Set State to \"SLICE_DEFINED\" "
   ]
  },
  {
   "cell_type": "code",
   "execution_count": null,
   "id": "6855cec7-fef2-40b7-b511-31fa4d381fcb",
   "metadata": {},
   "outputs": [],
   "source": [
    "if success:\n",
    "    state_data = {'slice_name': slice_name, 'state': ['SLICE_DEFINED']}\n",
    "    set_state_local(state_data)\n",
    "else:\n",
    "    print ('State is not updated due to error')"
   ]
  }
 ],
 "metadata": {
  "kernelspec": {
   "display_name": "Python 3 (ipykernel)",
   "language": "python",
   "name": "python3"
  },
  "language_info": {
   "codemirror_mode": {
    "name": "ipython",
    "version": 3
   },
   "file_extension": ".py",
   "mimetype": "text/x-python",
   "name": "python",
   "nbconvert_exporter": "python",
   "pygments_lexer": "ipython3",
   "version": "3.10.6"
  }
 },
 "nbformat": 4,
 "nbformat_minor": 5
}
