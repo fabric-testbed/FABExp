{
 "cells": [
  {
   "cell_type": "markdown",
   "id": "345aec4e-1894-45f7-8cee-08c8d10e21ba",
   "metadata": {},
   "source": [
    "## Run iperf test between node1 and node2"
   ]
  },
  {
   "cell_type": "code",
   "execution_count": null,
   "id": "e6aaa943-8019-498d-bd78-0b8332beb11b",
   "metadata": {},
   "outputs": [],
   "source": [
    "from state import *\n",
    "from IPython.core.getipython import get_ipython\n",
    "\n",
    "# Import libraries\n",
    "%run ../../setup/include/include_libraries.py\n",
    "# Import selected slice name\n",
    "%run ../../slice_info/selected_slice.py\n",
    "\n",
    "\n",
    "# Import topology_variables\n",
    "\n",
    "# Use the button in the GUI automatically does it for you\n",
    "if os.getenv('SELECTED_SLICE') is not None:\n",
    "    SELECTED_SLICE = os.getenv('SELECTED_SLICE')\n",
    "\n",
    "# If you manually run the notebook, please specify the slice name in the line below\n",
    "# SELECTED_SLICE = 'slice_name'\n",
    "\n",
    "path = f'../../slice_info/{SELECTED_SLICE}/topology_variables.ipynb'\n",
    "get_ipython().run_line_magic('run', path)\n",
    "\n"
   ]
  },
  {
   "cell_type": "code",
   "execution_count": null,
   "id": "ee94e71f-66c8-431b-9414-e612545fe4bb",
   "metadata": {},
   "outputs": [],
   "source": [
    "print ('Running iperf tests between node1 and node2')\n",
    "slice = fablib.get_slice(name=selected_slice)\n",
    "node1 = slice.get_node(name=node1_name)        \n",
    "node2 = slice.get_node(name=node2_name)           \n",
    "\n",
    "stdout1, stderr1 = node1.execute(\"docker run -d --rm \"\n",
    "                                \"--network host \"\n",
    "                                \"fabrictestbed/slice-vm-rocky8-multitool:0.0.2 \"\n",
    "                                \"iperf3 -s -1\"\n",
    "                                , quiet=True, output_file=f\"{node1.get_name()}.log\");\n",
    "\n",
    "node1_addr = node1.get_interface(network_name=f'FABNET_IPv4_{node1.get_site()}').get_ip_addr()\n",
    "\n",
    "stdout2, stderr2 = node2.execute(\"docker run --rm \"\n",
    "                                \"--network host \"\n",
    "                                \"fabrictestbed/slice-vm-rocky8-multitool:0.0.2 \"\n",
    "                                f\"iperf3 -c {node1_addr} -P 4 -t 30 -i 10 -O 10\"\n",
    "                                , quiet=False, output_file=f\"{node2.get_name()}.log\");"
   ]
  }
 ],
 "metadata": {
  "kernelspec": {
   "display_name": "Python 3 (ipykernel)",
   "language": "python",
   "name": "python3"
  },
  "language_info": {
   "codemirror_mode": {
    "name": "ipython",
    "version": 3
   },
   "file_extension": ".py",
   "mimetype": "text/x-python",
   "name": "python",
   "nbconvert_exporter": "python",
   "pygments_lexer": "ipython3",
   "version": "3.10.6"
  }
 },
 "nbformat": 4,
 "nbformat_minor": 5
}
