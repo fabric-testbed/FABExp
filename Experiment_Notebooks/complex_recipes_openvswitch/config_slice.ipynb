{
 "cells": [
  {
   "cell_type": "markdown",
   "id": "320e6c3b-b483-4b6b-90ce-e15eb85c0774",
   "metadata": {},
   "source": [
    "## Set up network and install software"
   ]
  },
  {
   "cell_type": "code",
   "execution_count": null,
   "id": "f584144f-7209-4779-8d26-6a3deaf662db",
   "metadata": {},
   "outputs": [],
   "source": [
    "from state import *\n",
    "from IPython.core.getipython import get_ipython\n",
    "\n",
    "# Import libraries\n",
    "%run ../setup/include/include_libraries.py\n",
    "# Import selected slice name\n",
    "%run ../slice_info/selected_slice.py\n",
    "\n",
    "\n",
    "# Import topology_variables\n",
    "\n",
    "# Use the button in the GUI automatically does it for you\n",
    "if os.getenv('SELECTED_SLICE') is not None:\n",
    "    SELECTED_SLICE = os.getenv('SELECTED_SLICE')\n",
    "\n",
    "# If you manually run the notebook, please specify the slice name in the line below\n",
    "# SELECTED_SLICE = 'slice_name'\n",
    "\n",
    "path = f'../slice_info/{SELECTED_SLICE}/topology_variables.ipynb'\n",
    "get_ipython().run_line_magic('run', path)\n",
    "\n",
    "import write_value\n"
   ]
  },
  {
   "cell_type": "code",
   "execution_count": null,
   "id": "e3c0b6f3-7ae1-4957-b098-7d5de8dd46cb",
   "metadata": {},
   "outputs": [],
   "source": [
    "try:\n",
    "    slice = fablib.get_slice(name=selected_slice)\n",
    "    # install ovs and net-tools\n",
    "    for node in slice.get_nodes():\n",
    "        if node.get_name().startswith(\"bridge\"):\n",
    "            stdout, stderr = node.execute('yes | sudo apt-get -y update && sudo apt-get upgrade', quiet=True) \n",
    "            stdout, stderr = node.execute('yes | sudo apt-get -y install openvswitch-switch openvswitch-common', quiet=True)\n",
    "            stdout, stderr = node.execute('sudo apt-get -y install net-tools', quiet=True)\n",
    "            print(f\"done bridge: {node.get_name()}\")\n",
    "    print(\"Done\")\n",
    "    \n",
    "    # Create a new bridge, enable the spanning tree protocol on necessary interfaces\n",
    "    bridge1 = slice.get_node(name=node3_name)\n",
    "    stdout, stderr = bridge1.execute('sudo ovs-vsctl add-br br0')\n",
    "    for interface in bridge1.get_interfaces():\n",
    "        stdout, stderr = bridge1.execute(f'sudo ovs-vsctl add-port br0 {interface.get_physical_os_interface_name()}')\n",
    "        #Remove IP addresses for all interfaces\n",
    "        stdout, stderr = bridge1.execute(f'sudo ifconfig {interface.get_physical_os_interface_name()} 0')\n",
    "    \n",
    "    #bring the bridge up\n",
    "    stdout, stderr = bridge1.execute('sudo ifconfig br0 up')\n",
    "    print(\"Done\")\n",
    "    \n",
    "    # enable spanning tree and confirm\n",
    "    stdout, stderr = bridge1.execute('sudo ovs-vsctl set bridge br0 stp_enable=true')\n",
    "    stdout, stderr = bridge1.execute('sudo ovs-appctl stp/show')\n",
    "    \n",
    "    # set up host nodes\n",
    "    host1 = slice.get_node(name=node1_name)\n",
    "    host2 = slice.get_node(name=node2_name)\n",
    "    stdout, stderr = host1.execute('sudo apt-get -y install net-tools', quiet=True)\n",
    "    stdout, stderr = host2.execute('sudo apt-get -y install net-tools', quiet=True)\n",
    "    stdout, stderr = host1.execute(f'sudo ip link set dev {host1.get_interfaces()[0].get_physical_os_interface_name()} up', quiet=True)\n",
    "    stdout, stderr = host2.execute(f'sudo ip link set dev {host2.get_interfaces()[0].get_physical_os_interface_name()} up', quiet=True)\n",
    "    stdout, stderr = host1.execute(f'sudo ip addr add 10.10.10.1/24 dev {host1.get_interfaces()[0].get_physical_os_interface_name()}', quiet=True)\n",
    "    stdout, stderr = host2.execute(f'sudo ip addr add 10.10.10.2/24 dev {host2.get_interfaces()[0].get_physical_os_interface_name()}', quiet=True)\n",
    "    \n",
    "    \n",
    "    success = True\n",
    "except Exception as e:\n",
    "    print(f\"Exception: {e}\")\n",
    "    success = False\n",
    "    raise SystemExit(\"Stopping notebook execution due to exception\")"
   ]
  },
  {
   "cell_type": "markdown",
   "id": "64c5608e-8810-4b8f-8378-86f9a1b945a8",
   "metadata": {},
   "source": [
    "## Update state"
   ]
  },
  {
   "cell_type": "code",
   "execution_count": null,
   "id": "ffd66bc1-6f2a-4d8a-b265-83b913f1b43a",
   "metadata": {},
   "outputs": [],
   "source": [
    "if success:\n",
    "    update_state_local(selected_slice, 'SLICE_CONFIGURED')\n",
    "    update_state_in_fim(selected_slice, read_state_from_local(selected_slice))\n",
    "else:\n",
    "    print ('State is not updated due to error.')"
   ]
  }
 ],
 "metadata": {
  "kernelspec": {
   "display_name": "Python 3 (ipykernel)",
   "language": "python",
   "name": "python3"
  },
  "language_info": {
   "codemirror_mode": {
    "name": "ipython",
    "version": 3
   },
   "file_extension": ".py",
   "mimetype": "text/x-python",
   "name": "python",
   "nbconvert_exporter": "python",
   "pygments_lexer": "ipython3",
   "version": "3.10.6"
  }
 },
 "nbformat": 4,
 "nbformat_minor": 5
}
