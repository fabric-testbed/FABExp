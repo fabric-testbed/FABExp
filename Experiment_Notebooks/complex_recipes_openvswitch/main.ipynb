{
 "cells": [
  {
   "cell_type": "markdown",
   "id": "345aec4e-1894-45f7-8cee-08c8d10e21ba",
   "metadata": {},
   "source": [
    "## Run ping test between node1 and node2"
   ]
  },
  {
   "cell_type": "code",
   "execution_count": null,
   "id": "e6aaa943-8019-498d-bd78-0b8332beb11b",
   "metadata": {},
   "outputs": [],
   "source": [
    "from state import *\n",
    "from IPython.core.getipython import get_ipython\n",
    "\n",
    "# Import libraries\n",
    "%run ../../setup/include/include_libraries.py\n",
    "# Import selected slice name\n",
    "%run ../../slice_info/selected_slice.py\n",
    "\n",
    "\n",
    "# Import topology_variables\n",
    "\n",
    "# Use the button in the GUI automatically does it for you\n",
    "if os.getenv('SELECTED_SLICE') is not None:\n",
    "    SELECTED_SLICE = os.getenv('SELECTED_SLICE')\n",
    "\n",
    "# If you manually run the notebook, please specify the slice name in the line below\n",
    "# SELECTED_SLICE = 'slice_name'\n",
    "\n",
    "path = f'../../slice_info/{SELECTED_SLICE}/topology_variables.ipynb'\n",
    "get_ipython().run_line_magic('run', path)\n"
   ]
  },
  {
   "cell_type": "markdown",
   "id": "f5e95335-4588-4993-b787-7d5fa49f9b25",
   "metadata": {},
   "source": [
    "## Run ping test"
   ]
  },
  {
   "cell_type": "code",
   "execution_count": null,
   "id": "ee94e71f-66c8-431b-9414-e612545fe4bb",
   "metadata": {},
   "outputs": [],
   "source": [
    "print ('Running iperf tests between node1 and node2')\n",
    "slice = fablib.get_slice(name=selected_slice)\n",
    "host1 = slice.get_node(name=node1_name)        \n",
    "stdout, stderr = host1.execute('ping 10.10.10.2 -c 5')"
   ]
  }
 ],
 "metadata": {
  "kernelspec": {
   "display_name": "Python 3 (ipykernel)",
   "language": "python",
   "name": "python3"
  },
  "language_info": {
   "codemirror_mode": {
    "name": "ipython",
    "version": 3
   },
   "file_extension": ".py",
   "mimetype": "text/x-python",
   "name": "python",
   "nbconvert_exporter": "python",
   "pygments_lexer": "ipython3",
   "version": "3.10.6"
  }
 },
 "nbformat": 4,
 "nbformat_minor": 5
}
