{
 "cells": [
  {
   "cell_type": "markdown",
   "id": "dc9dc264-1aec-42af-b239-07fb07115556",
   "metadata": {},
   "source": [
    "## Define Slice Topology"
   ]
  },
  {
   "cell_type": "markdown",
   "id": "857363cd-6695-415f-95b8-cebc9a421075",
   "metadata": {},
   "source": [
    "### Imports "
   ]
  },
  {
   "cell_type": "code",
   "execution_count": null,
   "id": "cea99090-28e9-4451-b645-b573f5d9ff23",
   "metadata": {},
   "outputs": [],
   "source": [
    "# Import libraries\n",
    "%run ../setup/include/include_libraries.py\n",
    "# load general variables\n",
    "%run ../setup/config/load_variables.py\n",
    "# load topology variables\n",
    "%run topology_variables.ipynb\n",
    "\n",
    "from state import *\n",
    "import write_value"
   ]
  },
  {
   "cell_type": "markdown",
   "id": "1cb5b2c5-479f-4b8a-bc95-fcb7bd4c18e8",
   "metadata": {},
   "source": [
    "### Slice Topology"
   ]
  },
  {
   "cell_type": "code",
   "execution_count": null,
   "id": "b67ff7db-76bc-4e93-a7ab-2d054604dc4a",
   "metadata": {},
   "outputs": [],
   "source": [
    "try:\n",
    "    #Create Slice\n",
    "    slice = fablib.new_slice(name=slice_name)\n",
    "    \n",
    "    # we will use CX5 to generate traffic so need sites that have CX5 for this example.\n",
    "    cx5_column_name = 'nic_connectx_5_available'\n",
    "\n",
    "    # find a site with available ConnectX-5 \n",
    "    sites = [site1] = fablib.get_random_sites(count=1, filter_function=lambda x: x[cx5_column_name] > 0)\n",
    "    print(f\"Sites: {sites}\")\n",
    "    \n",
    "    if (node1_site ==''):\n",
    "        node1_site = site1\n",
    "        write_value.write_value_to_file('topology_variables.ipynb', 'node1_site', node1_site)\n",
    "    if (node2_site ==''):\n",
    "        node2_site = site1\n",
    "        write_value.write_value_to_file('topology_variables.ipynb', 'node2_site', node2_site)\n",
    "    if (node3_site ==''):\n",
    "        node3_site = site1\n",
    "        write_value.write_value_to_file('topology_variables.ipynb', 'node3_site', node3_site)\n",
    "        \n",
    "    # add bridge node\n",
    "    bridge1 = slice.add_node(name=node3_name, site=node3_site, cores=node3_cores, ram=node3_ram, disk=node3_disk, image=default_image)\n",
    "    bridge1_nic = bridge1.add_component(model=node3_nic_model, name=node3_nic_name)\n",
    "    \n",
    "    # add host nodes\n",
    "    site_node_count = 2\n",
    "    print(f\"Adding nodes to {site1}\")\n",
    "    for node_num in range(site_node_count):\n",
    "        node_name = globals()[f'node{node_num+1}_name']\n",
    "\n",
    "        node = slice.add_node(name=node_name, site=globals()[f'node{node_num+1}_site'], cores=globals()[f'node{node_num+1}_cores'], ram=globals()[f'node{node_num+1}_ram'], disk=globals()[f'node{node_num+1}_disk'], image=default_image)\n",
    "        iface = node.add_component(model=globals()[f'node{node_num+1}_nic_model'], name=globals()[f'node{node_num+1}_nic_name']).get_interfaces()[0]    \n",
    "        net = slice.add_l2network(name=f\"net{node_num}\")\n",
    "\n",
    "        net.add_interface(iface)\n",
    "        net.add_interface(bridge1_nic.get_interfaces()[i])\n",
    "\n",
    "    \n",
    "    success = True\n",
    "    \n",
    "except Exception as e:\n",
    "    print(f\"Exception: {e}\")\n",
    "    success = False\n",
    "    raise SystemExit(\"Stopping notebook execution due to exception\")"
   ]
  },
  {
   "cell_type": "markdown",
   "id": "6bead902-838f-4f94-ba8e-6dfa641dddec",
   "metadata": {},
   "source": [
    "### Set State to \"SLICE_DEFINED\" "
   ]
  },
  {
   "cell_type": "code",
   "execution_count": null,
   "id": "6855cec7-fef2-40b7-b511-31fa4d381fcb",
   "metadata": {},
   "outputs": [],
   "source": [
    "if success:\n",
    "    state_data = {'slice_name': slice_name, 'state': ['SLICE_DEFINED']}\n",
    "    set_state_local(state_data)\n",
    "else:\n",
    "    print ('State is not updated due to error')"
   ]
  }
 ],
 "metadata": {
  "kernelspec": {
   "display_name": "Python 3 (ipykernel)",
   "language": "python",
   "name": "python3"
  },
  "language_info": {
   "codemirror_mode": {
    "name": "ipython",
    "version": 3
   },
   "file_extension": ".py",
   "mimetype": "text/x-python",
   "name": "python",
   "nbconvert_exporter": "python",
   "pygments_lexer": "ipython3",
   "version": "3.10.6"
  }
 },
 "nbformat": 4,
 "nbformat_minor": 5
}
