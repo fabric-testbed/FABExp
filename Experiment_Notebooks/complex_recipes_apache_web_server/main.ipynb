{
 "cells": [
  {
   "cell_type": "markdown",
   "id": "345aec4e-1894-45f7-8cee-08c8d10e21ba",
   "metadata": {},
   "source": [
    "## Save file to server and download file to client"
   ]
  },
  {
   "cell_type": "code",
   "execution_count": null,
   "id": "e6aaa943-8019-498d-bd78-0b8332beb11b",
   "metadata": {},
   "outputs": [],
   "source": [
    "from state import *\n",
    "from IPython.core.getipython import get_ipython\n",
    "\n",
    "# Import libraries\n",
    "%run ../../setup/include/include_libraries.py\n",
    "# Import selected slice name\n",
    "%run ../../slice_info/selected_slice.py\n",
    "\n",
    "\n",
    "# Import topology_variables\n",
    "\n",
    "# Use the button in the GUI automatically does it for you\n",
    "if os.getenv('SELECTED_SLICE') is not None:\n",
    "    SELECTED_SLICE = os.getenv('SELECTED_SLICE')\n",
    "\n",
    "# If you manually run the notebook, please specify the slice name in the line below\n",
    "# SELECTED_SLICE = 'slice_name'\n",
    "\n",
    "path = f'../../slice_info/{SELECTED_SLICE}/topology_variables.ipynb'\n",
    "get_ipython().run_line_magic('run', path)\n",
    "\n"
   ]
  },
  {
   "cell_type": "code",
   "execution_count": null,
   "id": "ee94e71f-66c8-431b-9414-e612545fe4bb",
   "metadata": {},
   "outputs": [],
   "source": [
    "\n",
    "slice = fablib.get_slice(name=selected_slice)\n",
    "server = slice.get_node(name=node1_name)        \n",
    "client = slice.get_node(name=node2_name)\n",
    "create_file = f'echo \"Congratualtions! The Apache server was setup correctly.\" | sudo tee {apache_root_dir}/download_me'\n",
    "try:\n",
    "    stdout, stderr = server.execute(create_file)\n",
    "    print(\"The file was created successfully.\")\n",
    "    \n",
    "except Exception as e:\n",
    "    print(f\"Exception: {e}\")\n",
    "\n",
    "server_addr = server.get_interface(network_name=network1_name).get_ip_addr()\n",
    "\n",
    "try:\n",
    "    stdout, stderr = client.execute(f'wget {server_addr}:80/download_me')\n",
    "    print(stdout,stderr)\n",
    "    stdout, stderr = client.execute(f'cat download_me')\n",
    "    print(stdout)\n",
    "    \n",
    "except Exception as e:\n",
    "    print(f\"Exception: {e}\")"
   ]
  }
 ],
 "metadata": {
  "kernelspec": {
   "display_name": "Python 3 (ipykernel)",
   "language": "python",
   "name": "python3"
  },
  "language_info": {
   "codemirror_mode": {
    "name": "ipython",
    "version": 3
   },
   "file_extension": ".py",
   "mimetype": "text/x-python",
   "name": "python",
   "nbconvert_exporter": "python",
   "pygments_lexer": "ipython3",
   "version": "3.10.6"
  }
 },
 "nbformat": 4,
 "nbformat_minor": 5
}
