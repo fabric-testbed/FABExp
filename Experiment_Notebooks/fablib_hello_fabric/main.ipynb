{
 "cells": [
  {
   "cell_type": "markdown",
   "id": "9d0b56c5-34f6-4cf0-9ea5-2afad1da3130",
   "metadata": {},
   "source": [
    "## Run experiment: configure the nvme device"
   ]
  },
  {
   "cell_type": "code",
   "execution_count": null,
   "id": "82332669-f575-4885-8840-c69bf6680661",
   "metadata": {},
   "outputs": [],
   "source": [
    "from state import *\n",
    "from IPython.core.getipython import get_ipython\n",
    "\n",
    "# Import libraries\n",
    "%run ../../setup/include/include_libraries.py\n",
    "# Import selected slice name\n",
    "%run ../../slice_info/selected_slice.py\n",
    "\n",
    "\n",
    "# Import topology_variables\n",
    "\n",
    "# Use the button in the GUI automatically does it for you\n",
    "if os.getenv('SELECTED_SLICE') is not None:\n",
    "    SELECTED_SLICE = os.getenv('SELECTED_SLICE')\n",
    "\n",
    "# If you manually run the notebook, please specify the slice name in the line below\n",
    "# SELECTED_SLICE = 'slice_name'\n",
    "\n",
    "path = f'../../slice_info/{SELECTED_SLICE}/topology_variables.ipynb'\n",
    "get_ipython().run_line_magic('run', path)\n",
    "\n",
    "import write_value"
   ]
  },
  {
   "cell_type": "code",
   "execution_count": null,
   "id": "c88a808d-80ac-4d94-a4a1-8aff23d3f732",
   "metadata": {},
   "outputs": [],
   "source": [
    "try:\n",
    "    slice = fablib.get_slice(name=selected_slice)\n",
    "\n",
    "    slice.show();\n",
    "    slice.list_nodes();\n",
    "\n",
    "    for node in slice.get_nodes():\n",
    "        stdout, stderr = node.execute('echo Hello, FABRIC from node `hostname -s`')\n",
    "except Exception as e:\n",
    "    print(f\"Exception: {e}\")\n",
    "    raise SystemExit(\"Stopping notebook execution due to exception\")"
   ]
  }
 ],
 "metadata": {
  "kernelspec": {
   "display_name": "Python 3 (ipykernel)",
   "language": "python",
   "name": "python3"
  },
  "language_info": {
   "codemirror_mode": {
    "name": "ipython",
    "version": 3
   },
   "file_extension": ".py",
   "mimetype": "text/x-python",
   "name": "python",
   "nbconvert_exporter": "python",
   "pygments_lexer": "ipython3",
   "version": "3.10.6"
  }
 },
 "nbformat": 4,
 "nbformat_minor": 5
}
