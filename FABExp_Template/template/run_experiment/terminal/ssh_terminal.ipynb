{
 "cells": [
  {
   "cell_type": "markdown",
   "id": "8e637ea2-64bf-4e3a-8150-1ed110bf1dd9",
   "metadata": {},
   "source": [
    "# Open a terminal that ssh into a node\n",
    "## (Please run all the cells. If cell 4 is not run, the terminal still runs the ssh command the next time it is opened)"
   ]
  },
  {
   "cell_type": "markdown",
   "id": "207e8584-ce72-4ff3-b7f3-bf5bdf15140a",
   "metadata": {},
   "source": [
    "## Step1. Create a file and write the ssh cmd into it"
   ]
  },
  {
   "cell_type": "code",
   "execution_count": null,
   "id": "7a45960d-b733-4c2b-a06b-763c648069b1",
   "metadata": {},
   "outputs": [],
   "source": [
    "import os\n",
    "import time\n",
    "\n",
    "ssh_cmd = os.getenv('SSH_CMD')\n",
    "\n",
    "file = '/tmp/SSH_CMD_IN_TERMINAL'\n",
    "#############################\n",
    "\n",
    "\n",
    "def write_ssh_cmd(cmd, file):\n",
    "    #file_path = os.path.expanduser(file)\n",
    "    with open(file, 'w') as f:\n",
    "        print (f\"writing {cmd} to file\")\n",
    "        f.write(cmd)\n",
    "        \n",
    "\n",
    "write_ssh_cmd(ssh_cmd, file)"
   ]
  },
  {
   "cell_type": "markdown",
   "id": "27ac7eb0-0fc4-4cf5-8f27-3855f7ca25b2",
   "metadata": {},
   "source": [
    "## Step2. Source the file in ~/.bashrc"
   ]
  },
  {
   "cell_type": "code",
   "execution_count": null,
   "id": "6a145df0-02d9-4576-907c-5b2823a039d5",
   "metadata": {},
   "outputs": [],
   "source": [
    "# The function appends the following to ~/.bashrc. Only functioning when the file is not empty\n",
    "\n",
    "# if [ -s file ]; then\n",
    "#     source file\n",
    "# fi\n",
    "\n",
    "def append_to_bashrc(file):\n",
    "    bashrc_path = os.path.expanduser('~/.bashrc')\n",
    "    content = f\"\\nif [ -s {file} ]; then\\n    source {file}\\nfi\\n\"\n",
    "    with open(bashrc_path, 'r') as bashrc_file:\n",
    "        if content.strip() not in bashrc_file.read():\n",
    "            # if not in bashrc, append it\n",
    "            with open(bashrc_path, 'a') as bashrc_file:\n",
    "                bashrc_file.write(content)\n",
    "        else:\n",
    "            print(\"Content found in ~/.bashrc\")\n",
    "            \n",
    "append_to_bashrc(file)"
   ]
  },
  {
   "cell_type": "markdown",
   "id": "ee4b11f4-7839-41da-8c99-2f960c36b4b2",
   "metadata": {},
   "source": [
    "## Step3. Open a terminal \n",
    "### https://jupyterlab.readthedocs.io/en/latest/user/commands.html"
   ]
  },
  {
   "cell_type": "code",
   "execution_count": null,
   "id": "0873f0c7-7cc1-4bfc-b6f1-ed745cfa49a7",
   "metadata": {},
   "outputs": [],
   "source": [
    "%%html\n",
    "\n",
    "<p><b>Open New Terminal.</b></p>\n",
    "<button class=\"open-terminal\" data-commandlinker-command=\"terminal:create-new\" style=\"display:none;\">Open Terminal</button>\n",
    "        \n",
    "<script>\n",
    "try {\n",
    "    els = document.getElementsByClassName(\"open-terminal\");\n",
    "    els[0].click();\n",
    "}\n",
    "catch(err) {\n",
    "    console.error(err);\n",
    "}    \n",
    "</script>"
   ]
  },
  {
   "cell_type": "markdown",
   "id": "5295cc04-a6d4-4d24-aef9-84d302f7a880",
   "metadata": {},
   "source": [
    "## Step4. Remove the ssh_cmd"
   ]
  },
  {
   "cell_type": "code",
   "execution_count": null,
   "id": "aab89e06-7cb0-43b9-83bc-4f2912f78f8e",
   "metadata": {},
   "outputs": [],
   "source": [
    "# Empty the ssh_cmd file should be enough\n",
    "# Launching terminal in the cell above may take several seconds. \n",
    "# Make sure the ssh cmd is not deleted before terminal appears(change to large numbers if it is slow). \n",
    "time.sleep(7)\n",
    "def empty_file(f):\n",
    "    file_path = os.path.expanduser(f)\n",
    "    with open(file_path, 'w'):\n",
    "        pass \n",
    "empty_file(file)\n",
    "# Function to remove the changes in ~/.bashrc?\n",
    "\n",
    "\n",
    "# Possible ways of running this notebook from code: \n",
    "# (1)rewrite the ssh cmd in the first cell using nbformat \n",
    "# (2)Add ssh_cmd.py as header by %run ssh_cmd.py in the first cell, write th ssh cmd to ssh_cmd.py\n",
    "# (3)os.environ()"
   ]
  }
 ],
 "metadata": {
  "kernelspec": {
   "display_name": "Python 3 (ipykernel)",
   "language": "python",
   "name": "python3"
  },
  "language_info": {
   "codemirror_mode": {
    "name": "ipython",
    "version": 3
   },
   "file_extension": ".py",
   "mimetype": "text/x-python",
   "name": "python",
   "nbconvert_exporter": "python",
   "pygments_lexer": "ipython3",
   "version": "3.10.6"
  }
 },
 "nbformat": 4,
 "nbformat_minor": 5
}
