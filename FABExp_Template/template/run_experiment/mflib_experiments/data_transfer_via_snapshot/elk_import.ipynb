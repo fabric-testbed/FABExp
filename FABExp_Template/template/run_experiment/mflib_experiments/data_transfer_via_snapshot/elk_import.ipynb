{
 "cells": [
  {
   "cell_type": "markdown",
   "id": "c839a13a-e892-46d2-8ab7-03ea8d7108c9",
   "metadata": {
    "tags": []
   },
   "source": [
    "# Import ELK Snapshots onto a Fabric slice"
   ]
  },
  {
   "cell_type": "markdown",
   "id": "ca35221e-efa2-4fce-8e99-34c0c8f3e21b",
   "metadata": {
    "tags": []
   },
   "source": [
    "### Prerequisite\n",
    "- A running fabric slice (For example: [Create single node backup Slice](./create_single_node_backup.ipynb))\n",
    "- An ELK snapshot tar file to import"
   ]
  },
  {
   "cell_type": "markdown",
   "id": "8dfeece6-a41a-400f-a77c-58430630a080",
   "metadata": {
    "tags": []
   },
   "source": [
    "#### Set slice information and import ELK service tool\n",
    "*Set slice_name and node_name below before running*"
   ]
  },
  {
   "cell_type": "code",
   "execution_count": null,
   "id": "2a319e4d-cd46-4fe2-95b4-1def438dfb65",
   "metadata": {},
   "outputs": [],
   "source": [
    "slice_name='backup-testing'\n",
    "node_name='data-backup'\n",
    "elk_tools = ElkImporter(slice_name=slice_name, node_name=node_name)"
   ]
  },
  {
   "cell_type": "markdown",
   "id": "f55a8556-8f63-4df2-bfb0-4fef4bf07245",
   "metadata": {
    "tags": []
   },
   "source": [
    "---\n",
    "---\n",
    "# Instructions to start ELK and import your snapshot data\n",
    "\n",
    "## Set up the Docker-Compose App\n",
    "This command does the following:\n",
    "- Installs Docker and Docker-Compose (if they aren't already)\n",
    "- Clones Docker-Compose git repository (https://github.com/fabric-testbed/mf-data-import-containers.git)"
   ]
  },
  {
   "cell_type": "code",
   "execution_count": null,
   "id": "9e5c36ef-4d22-4948-ac8b-85c415d06795",
   "metadata": {},
   "outputs": [],
   "source": [
    "elk_tools.setup_docker_app(node_name)"
   ]
  },
  {
   "cell_type": "markdown",
   "id": "d2276bf9-85b2-4041-9b38-bc0d817f517d",
   "metadata": {},
   "source": [
    "---\n",
    "## Upload snapshot tar file to your node with 1 of the methods below"
   ]
  },
  {
   "cell_type": "markdown",
   "id": "7b221bce-0de8-4a2e-83f6-4f208a903737",
   "metadata": {
    "tags": []
   },
   "source": [
    "#### Option 1: Upload to node from local device with SCP"
   ]
  },
  {
   "cell_type": "markdown",
   "id": "20621ea9-caca-4c8e-97f0-d7b4601a9e54",
   "metadata": {
    "jp-MarkdownHeadingCollapsed": true,
    "tags": []
   },
   "source": [
    "##### Prerequisite\n",
    "- For this step, you need your local ssh environment configured ([Configure Environment](./configure.ipynb))\n",
    "\n",
    "##### Example SCP (Secure Copy) command to download snapshot file from VM\n",
    "\n",
    "scp -F ~/.ssh/fabric/ssh_config -i ~/.ssh/fabric/slice_key ubuntu@\\[2620:0:c80:1001:f816:3eff:fe81:80cc]:/home/mfuser/services/elk/files/snapshots/snapshot.tar ."
   ]
  },
  {
   "cell_type": "markdown",
   "id": "7255e5f0-009f-4338-abff-2a2c96878eef",
   "metadata": {
    "tags": []
   },
   "source": [
    "##### Fill in the variables below then run to generate your custom SCP command"
   ]
  },
  {
   "cell_type": "code",
   "execution_count": null,
   "id": "bb9eaa58-e1a1-4aa7-a74f-dc7a9006a02f",
   "metadata": {
    "tags": []
   },
   "outputs": [],
   "source": [
    "# Path of directory containing your snapshot file\n",
    "directory_path = \"/your/directory/\"\n",
    "\n",
    "# Snapshot file name\n",
    "snapshot_file_name = \"snapshot_test.tar\"\n",
    "\n",
    "print(elk_tools.generate_scp_upload_command(snapshot_file_name, directory_path))"
   ]
  },
  {
   "cell_type": "markdown",
   "id": "b3fcd450-0c79-467e-b93e-15630e2afe92",
   "metadata": {
    "jp-MarkdownHeadingCollapsed": true,
    "tags": []
   },
   "source": [
    "##### More info\n",
    "Fabric guide for transferring data directly from VM to local machine:\n",
    "https://learn.fabric-testbed.net/knowledge-base/transferring-data-to-and-from-your-vms/"
   ]
  },
  {
   "cell_type": "markdown",
   "id": "b3bcb211-caec-4c03-a5b7-615cff753818",
   "metadata": {
    "tags": []
   },
   "source": [
    "### Option 2: Upload from Jupyter Hub server"
   ]
  },
  {
   "cell_type": "markdown",
   "id": "c2318140-ad50-4618-b58a-d4ba036cfb19",
   "metadata": {
    "tags": []
   },
   "source": [
    "##### Use this method if your tar file is in the snapshots directory on this JH server"
   ]
  },
  {
   "cell_type": "code",
   "execution_count": null,
   "id": "a4810193-3dbf-446a-8c52-69dff1910cf5",
   "metadata": {},
   "outputs": [],
   "source": [
    "# Enter your elk snapshot tar file name (must be in data_transfer_service/snapshots directory)\n",
    "snapshot_file_name = \"snapshot_test.tar\"\n",
    "\n",
    "# Uploads TAR file to your node\n",
    "elk_tools.upload_snapshot(snapshot_file_name)"
   ]
  },
  {
   "cell_type": "markdown",
   "id": "2122541e-7205-4594-a91d-2f5c21782028",
   "metadata": {
    "tags": []
   },
   "source": [
    "---\n",
    "#### Once the file is on the meas_node, import it into the docker containers shared volume"
   ]
  },
  {
   "cell_type": "code",
   "execution_count": null,
   "id": "f820db9c-0865-404e-bb2e-4f7ae4b03939",
   "metadata": {},
   "outputs": [],
   "source": [
    "elk_tools.import_snapshot(snapshot_file_name)"
   ]
  },
  {
   "cell_type": "markdown",
   "id": "3a78a1da-14ea-47fc-adc3-4aff40cab44d",
   "metadata": {},
   "source": [
    "---\n",
    "#### Start the docker compose app"
   ]
  },
  {
   "cell_type": "code",
   "execution_count": null,
   "id": "f5474159-69cd-4ee1-adb2-0e3a124d9f12",
   "metadata": {},
   "outputs": [],
   "source": [
    "elk_tools.start_docker()"
   ]
  },
  {
   "cell_type": "markdown",
   "id": "7c3ee960-56a9-495f-8a29-f5cb8bf94c06",
   "metadata": {},
   "source": [
    "#### Register the repository"
   ]
  },
  {
   "cell_type": "code",
   "execution_count": null,
   "id": "0c7d1c3e-35fe-46c6-a275-b19ca6ace306",
   "metadata": {},
   "outputs": [],
   "source": [
    "# Choose a name for the repository your snapshot will be imported into or keep as default\n",
    "repository_name = \"imported_repository\"\n",
    "\n",
    "elk_tools.register_repository(repository_name)"
   ]
  },
  {
   "cell_type": "markdown",
   "id": "eaaab143-e8a3-4ac0-8e00-a6846f53deda",
   "metadata": {},
   "source": [
    "#### View repository after registration to get the snapshot name"
   ]
  },
  {
   "cell_type": "code",
   "execution_count": null,
   "id": "0ef1d074-691d-4638-b1ed-11ee33091ee8",
   "metadata": {},
   "outputs": [],
   "source": [
    "elk_tools.view_repository(repository_name)"
   ]
  },
  {
   "cell_type": "markdown",
   "id": "6ffed6ab-76a3-4b6f-8fd7-bca59f67611f",
   "metadata": {},
   "source": [
    "#### Set the snapshot_name variable from the above output (snapshot_name and snapshot_file_name are different)\n",
    "\n",
    "##### Example:\n",
    "this_is_the_snapshot_name SUCCESS 1685748801 23:33:21 1685748801 23:33:21 400ms 10 10 0 10"
   ]
  },
  {
   "cell_type": "code",
   "execution_count": null,
   "id": "1f3be4f9-42ce-4363-b828-7557689de413",
   "metadata": {},
   "outputs": [],
   "source": [
    "# SET THIS VARIABLE\n",
    "snapshot_name = \"snapshot_test\""
   ]
  },
  {
   "cell_type": "markdown",
   "id": "0ecf14b8-a09c-411a-b128-9d50e0912b20",
   "metadata": {},
   "source": [
    "#### Delete all indices and restore snapshot (replace snapshot name and change index list if you want to customize)"
   ]
  },
  {
   "cell_type": "code",
   "execution_count": null,
   "id": "4870a1ac-adcc-44ed-8eef-1632f4d73523",
   "metadata": {},
   "outputs": [],
   "source": [
    "elk_tools.restore_snapshot(repository_name, snapshot_name)"
   ]
  },
  {
   "cell_type": "markdown",
   "id": "fc98430d-01d7-4e24-ab14-43609a717951",
   "metadata": {},
   "source": [
    "### Your data is now imported on the node."
   ]
  },
  {
   "cell_type": "markdown",
   "id": "152ed58e-4442-48e2-8f4e-a5e26a12f251",
   "metadata": {},
   "source": [
    "----\n",
    "### View the index list now on ELK\n",
    "You should see all of your indices with \"restored-\" appended to the front of their names."
   ]
  },
  {
   "cell_type": "code",
   "execution_count": null,
   "id": "724ca7bf-fabe-48dd-b664-9f53f1adafd9",
   "metadata": {},
   "outputs": [],
   "source": [
    "elk_tools.view_indices()"
   ]
  },
  {
   "cell_type": "markdown",
   "id": "bbe76cd6-18bd-4d7a-b7eb-a6ced9e424d3",
   "metadata": {
    "tags": []
   },
   "source": [
    "----\n",
    "### View data from Kibana"
   ]
  },
  {
   "cell_type": "markdown",
   "id": "31338427-bd19-4ce8-a287-ada885fc88ad",
   "metadata": {},
   "source": [
    "#### On your local terminal create a tunnel with:"
   ]
  },
  {
   "cell_type": "code",
   "execution_count": null,
   "id": "b157ea21-8ab1-4cab-8afb-4b30ae9baca3",
   "metadata": {
    "tags": []
   },
   "outputs": [],
   "source": [
    "node_ip = elk_tools.node.get_management_ip()\n",
    "print(f'ssh -L 10030:localhost:5601 -F ssh_config -i slice_key ubuntu@{node_ip}')"
   ]
  },
  {
   "cell_type": "markdown",
   "id": "9ddf1c86-2fb4-4e46-a89e-53f77f9defbd",
   "metadata": {},
   "source": [
    "#### Then go to http://localhost:10030\n",
    "---"
   ]
  },
  {
   "cell_type": "markdown",
   "id": "4f132c40-bcfb-4978-bff0-17358e1d756f",
   "metadata": {
    "tags": []
   },
   "source": [
    "### To reuse slice with new data (if you are done then just delete the slice)\n",
    "#### Take down container and remove data"
   ]
  },
  {
   "cell_type": "code",
   "execution_count": null,
   "id": "8ef9bc67-8437-4d89-99bc-8a578daffd63",
   "metadata": {},
   "outputs": [],
   "source": [
    "elk_tools.stop_docker()\n",
    "elk_tools.remove_data()"
   ]
  },
  {
   "cell_type": "markdown",
   "id": "357ec5a8-b253-4369-a1cc-4d1be8691ca1",
   "metadata": {},
   "source": [
    "#### Rerun steps starting from *Create Docker container and import your data*"
   ]
  }
 ],
 "metadata": {
  "kernelspec": {
   "display_name": "Python 3 (ipykernel)",
   "language": "python",
   "name": "python3"
  },
  "language_info": {
   "codemirror_mode": {
    "name": "ipython",
    "version": 3
   },
   "file_extension": ".py",
   "mimetype": "text/x-python",
   "name": "python",
   "nbconvert_exporter": "python",
   "pygments_lexer": "ipython3",
   "version": "3.10.6"
  }
 },
 "nbformat": 4,
 "nbformat_minor": 5
}
