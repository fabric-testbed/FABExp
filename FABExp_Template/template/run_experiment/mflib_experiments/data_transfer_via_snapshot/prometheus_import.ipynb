{
 "cells": [
  {
   "cell_type": "markdown",
   "id": "c839a13a-e892-46d2-8ab7-03ea8d7108c9",
   "metadata": {
    "tags": []
   },
   "source": [
    "# Import Prometheus Snapshots onto a Fabric slice"
   ]
  },
  {
   "cell_type": "markdown",
   "id": "ca35221e-efa2-4fce-8e99-34c0c8f3e21b",
   "metadata": {
    "tags": []
   },
   "source": [
    "### Prerequisite\n",
    "- A running fabric slice (For example: [Create single node backup Slice](./knit7_create_single_node_backup.ipynb))\n",
    "- A Prometheus snapshot tar file to import"
   ]
  },
  {
   "cell_type": "markdown",
   "id": "8dfeece6-a41a-400f-a77c-58430630a080",
   "metadata": {
    "tags": []
   },
   "source": [
    "#### Set slice information and import Prometheus snapshot tool\n",
    "*Set slice_name and node_name below before running*"
   ]
  },
  {
   "cell_type": "code",
   "execution_count": null,
   "id": "2a319e4d-cd46-4fe2-95b4-1def438dfb65",
   "metadata": {},
   "outputs": [],
   "source": [
    "slice_name='backup-testing'\n",
    "node_name='data-backup'\n",
    "prom_tools = PrometheusImporter(slice_name=slice_name, node_name=node_name)"
   ]
  },
  {
   "cell_type": "markdown",
   "id": "0fc2349c-9773-4867-a13e-18bbdc44a33b",
   "metadata": {
    "tags": []
   },
   "source": [
    "---\n",
    "---\n",
    "# Instructions to start Prometheus/Grafana and import your snapshot data\n",
    "\n",
    "## Set up the Docker-Compose App\n",
    "This command does the following:\n",
    "- Installs Docker and Docker-Compose (if they aren't already)\n",
    "- Clones Docker-Compose git repository (https://github.com/fabric-testbed/mf-data-import-containers.git)"
   ]
  },
  {
   "cell_type": "code",
   "execution_count": null,
   "id": "56f716a8-6ca1-469c-a877-ab9e58a71ea7",
   "metadata": {},
   "outputs": [],
   "source": [
    "prom_tools.setup_docker_app(node_name)"
   ]
  },
  {
   "cell_type": "markdown",
   "id": "e35935c6-bcb1-4502-9a9f-b6b12f1e07d1",
   "metadata": {},
   "source": [
    "---\n",
    "### Upload snapshot tar file to your node with SCP"
   ]
  },
  {
   "cell_type": "markdown",
   "id": "e20f2e88-a3b5-4dac-81ae-e67001a50af8",
   "metadata": {
    "jp-MarkdownHeadingCollapsed": true,
    "tags": []
   },
   "source": [
    "##### Prerequisite\n",
    "- For this step, you need your local ssh environment configured ([Configure Environment](./configure.ipynb))"
   ]
  },
  {
   "cell_type": "markdown",
   "id": "56b6f203-44c5-4559-8fc6-c92a9310c28e",
   "metadata": {
    "tags": []
   },
   "source": [
    "##### Fill in the variables below then run to generate your custom SCP command"
   ]
  },
  {
   "cell_type": "code",
   "execution_count": null,
   "id": "8d38401d-20d6-476c-ac55-1d512c715126",
   "metadata": {
    "tags": []
   },
   "outputs": [],
   "source": [
    "# Path of directory containing your snapshot file\n",
    "directory_path = \"/your/directory\"\n",
    "\n",
    "# Snapshot file name\n",
    "snapshot_file_name = \"your-filename.tar\"\n",
    "\n",
    "print(prom_tools.generate_scp_upload_command(snapshot_file_name, directory_path))"
   ]
  },
  {
   "cell_type": "markdown",
   "id": "5849bd12-b89f-4aa7-adcc-4a39a2362f6b",
   "metadata": {
    "tags": []
   },
   "source": [
    "##### More info\n",
    "Fabric guide for transferring data directly from VM to local machine:\n",
    "https://learn.fabric-testbed.net/knowledge-base/transferring-data-to-and-from-your-vms/"
   ]
  },
  {
   "cell_type": "markdown",
   "id": "eecafaaf-daf4-48b4-a3c3-aed9d8313288",
   "metadata": {},
   "source": [
    "---\n",
    "#### Run the import snapshot script"
   ]
  },
  {
   "cell_type": "code",
   "execution_count": null,
   "id": "a3ada1b3-2a7c-44ff-a9bf-7a336aaf201e",
   "metadata": {},
   "outputs": [],
   "source": [
    "prom_tools.import_snapshot(snapshot_file_name)"
   ]
  },
  {
   "cell_type": "markdown",
   "id": "3a78a1da-14ea-47fc-adc3-4aff40cab44d",
   "metadata": {},
   "source": [
    "#### Start the docker compose app"
   ]
  },
  {
   "cell_type": "code",
   "execution_count": null,
   "id": "f5474159-69cd-4ee1-adb2-0e3a124d9f12",
   "metadata": {},
   "outputs": [],
   "source": [
    "prom_tools.start_docker()"
   ]
  },
  {
   "cell_type": "markdown",
   "id": "fc98430d-01d7-4e24-ab14-43609a717951",
   "metadata": {},
   "source": [
    "### Your data is now imported on the node."
   ]
  },
  {
   "cell_type": "markdown",
   "id": "bbe76cd6-18bd-4d7a-b7eb-a6ced9e424d3",
   "metadata": {
    "tags": []
   },
   "source": [
    "----\n",
    "### View data from Grafana"
   ]
  },
  {
   "cell_type": "markdown",
   "id": "bee30767-30aa-4c6c-808f-b08130b2a915",
   "metadata": {
    "tags": []
   },
   "source": [
    "#### On your local terminal create a tunnel with:"
   ]
  },
  {
   "cell_type": "code",
   "execution_count": null,
   "id": "3339d72d-9083-4b52-b279-e6fe71fdbad8",
   "metadata": {},
   "outputs": [],
   "source": [
    "node_ip = prom_tools.node.get_management_ip()\n",
    "print(f'ssh -L 10020:localhost:3000 -F ssh_config -i slice_key ubuntu@{node_ip}')"
   ]
  },
  {
   "cell_type": "markdown",
   "id": "e2cf3067-3b0c-42e0-a884-1edb9adbb26e",
   "metadata": {},
   "source": [
    "#### Then go to http://localhost:10020\n",
    "Default username: admin\n",
    "\n",
    "Default Password: grafana\n",
    "\n",
    "----"
   ]
  },
  {
   "cell_type": "markdown",
   "id": "4f132c40-bcfb-4978-bff0-17358e1d756f",
   "metadata": {
    "tags": []
   },
   "source": [
    "### To reuse slice with new data (if you are done then just delete the slice)\n",
    "#### Take down container and remove data"
   ]
  },
  {
   "cell_type": "code",
   "execution_count": null,
   "id": "8ef9bc67-8437-4d89-99bc-8a578daffd63",
   "metadata": {},
   "outputs": [],
   "source": [
    "#prom_tools.stop_docker()\n",
    "#prom_tools.remove_data()"
   ]
  },
  {
   "cell_type": "markdown",
   "id": "357ec5a8-b253-4369-a1cc-4d1be8691ca1",
   "metadata": {},
   "source": [
    "#### Rerun steps starting from *Create Docker container and import your data*"
   ]
  }
 ],
 "metadata": {
  "kernelspec": {
   "display_name": "Python 3 (ipykernel)",
   "language": "python",
   "name": "python3"
  },
  "language_info": {
   "codemirror_mode": {
    "name": "ipython",
    "version": 3
   },
   "file_extension": ".py",
   "mimetype": "text/x-python",
   "name": "python",
   "nbconvert_exporter": "python",
   "pygments_lexer": "ipython3",
   "version": "3.10.6"
  }
 },
 "nbformat": 4,
 "nbformat_minor": 5
}
