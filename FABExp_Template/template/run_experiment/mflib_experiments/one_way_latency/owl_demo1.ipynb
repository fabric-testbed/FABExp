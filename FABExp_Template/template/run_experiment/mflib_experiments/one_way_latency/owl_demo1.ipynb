{
 "cells": [
  {
   "cell_type": "markdown",
   "id": "c7910493-9c43-4f47-8364-f2d9fac60158",
   "metadata": {},
   "source": [
    "# OWL-Demo1 Run OWL (all nodes) and download pcap files"
   ]
  },
  {
   "cell_type": "code",
   "execution_count": null,
   "id": "a89c9e50-4318-45b0-9aec-976b6d6fd0bd",
   "metadata": {},
   "outputs": [],
   "source": [
    "from IPython.core.getipython import get_ipython\n",
    "\n",
    "# Import libraries\n",
    "%run ../../../setup/include/include_libraries.py\n",
    "# Import selected slice name\n",
    "%run ../../../slice_info/selected_slice.py\n",
    "\n",
    "\n",
    "# Import topology_variables\n",
    "\n",
    "# Use the button in the GUI automatically does it for you\n",
    "if os.getenv('SELECTED_SLICE') is not None:\n",
    "    SELECTED_SLICE = os.getenv('SELECTED_SLICE')\n",
    "\n",
    "# If you manually run the notebook, please specify the slice name in the line below\n",
    "#SELECTED_SLICE = 'MySlice2'\n",
    "\n",
    "path = f'../../../slice_info/{SELECTED_SLICE}/topology_variables.ipynb'\n",
    "get_ipython().run_line_magic('run', path)\n"
   ]
  },
  {
   "cell_type": "markdown",
   "id": "895627b5-0fa7-4c3b-b7fb-cf3ed9bc964e",
   "metadata": {},
   "source": [
    "## Get slice and nodes"
   ]
  },
  {
   "cell_type": "code",
   "execution_count": null,
   "id": "fe3c3859-7ab2-4935-abff-5fecf3b33834",
   "metadata": {},
   "outputs": [],
   "source": [
    "try:\n",
    "    slice = fablib.get_slice(name=selected_slice)\n",
    "except Exception as e:\n",
    "    print(f\"Fail: {e}\")\n",
    "#print(slice)\n",
    "nodes = slice.get_nodes()"
   ]
  },
  {
   "cell_type": "markdown",
   "id": "4b601282-de68-4c53-8736-5962d3b595e8",
   "metadata": {},
   "source": [
    "## Check whether the topology of the selected slice is eligible to run OWL\n",
    "#### (1) number of nodes >2\n",
    "#### (2) nodes are on ptp capable sites"
   ]
  },
  {
   "cell_type": "code",
   "execution_count": null,
   "id": "98cfe51a-5139-4ec9-b557-e4405ad60653",
   "metadata": {},
   "outputs": [],
   "source": [
    "eligible = True\n",
    "\n",
    "# number of nodes \n",
    "if (len(nodes)<2):\n",
    "    print ('You need at lease two nodes to run OWL experiment')\n",
    "    eligible = False\n",
    "\n",
    "# nodes are on ptp capable sites \n",
    "ptp_sites = fablib.list_sites(\n",
    "    output=\"list\",\n",
    "    quiet=True,\n",
    "    filter_function = lambda x:x['ptp_capable'] is True and x['state'] == 'Active',\n",
    ")\n",
    "ptp_site_names = [x['name'] for x in ptp_sites]\n",
    "\n",
    "#print(f\"PTP-enabled and active sites: {len(ptp_site_names)} ({ptp_site_names})\")\n",
    "for node in nodes:\n",
    "    #print (node.get_ip_routes())\n",
    "    if node.get_name() != 'meas-node':\n",
    "        if node.get_site() not in ptp_site_names:\n",
    "            print (f'Site {node.get_site()} is not ptp capable. Stop running the notebook.')\n",
    "            eligible = False\n",
    "\n"
   ]
  },
  {
   "cell_type": "markdown",
   "id": "3e24fa92-a8b1-4248-b259-d2b481d9d12e",
   "metadata": {},
   "source": [
    "## Enter the docker image name\n",
    "\n",
    "Image will be pulled from Docker Hub by default.\n",
    "If needing bo build from a Dockerfile, use [this](./OWL-DEV_build_image_from_Dockerfile.ipynb) in the same directory and change the image name. (e.g., \"owl-test:latest\")"
   ]
  },
  {
   "cell_type": "code",
   "execution_count": null,
   "id": "96b993c8-c63e-4fc2-a950-4845856407e0",
   "metadata": {},
   "outputs": [],
   "source": [
    "# if specific tag needed, add it like: \"fabrictestbed/owl:v0.1.2\"\n",
    "image_name=\"fabrictestbed/owl:0.2.0\"  \n",
    "\n",
    "# If built from Dockerfile for testing \n",
    "#image_name=\"owl-test:latest\"  "
   ]
  },
  {
   "cell_type": "markdown",
   "id": "1f1f5b49-e003-40b0-b82e-aae7cb336311",
   "metadata": {},
   "source": [
    "#### (Optional) Pull Docker image on each exp node\n",
    "\n",
    "Docker start (in the cells below) should pull the image automatically.\n",
    "But if pulling the image is necessary, use these lines."
   ]
  },
  {
   "cell_type": "code",
   "execution_count": null,
   "id": "39d7edbf-b0bc-47a9-9c18-7e98c1f7bd5d",
   "metadata": {},
   "outputs": [],
   "source": [
    "# for node in nodes:\n",
    "#     print(node.get_name())\n",
    "#     node.execute(f\"sudo docker pull {image_name}\") "
   ]
  },
  {
   "cell_type": "markdown",
   "id": "a0e08059-f826-46d7-8a67-62a6f027c861",
   "metadata": {},
   "source": [
    "## Use start_owl_all"
   ]
  },
  {
   "cell_type": "code",
   "execution_count": null,
   "id": "aef2e401-854e-4b2c-88eb-e627d05dd9bf",
   "metadata": {},
   "outputs": [],
   "source": [
    "import time\n",
    "if eligible is True:\n",
    "    print ('Starting owl...')\n",
    "    owl.start_owl_all(slice, img_name=image_name, probe_freq=10, duration=120, delete_previous=True)"
   ]
  },
  {
   "cell_type": "markdown",
   "id": "3d1b322e-508d-468c-9976-9fe3dc8ebac7",
   "metadata": {
    "tags": []
   },
   "source": [
    "## (Optional) If the method above doesn't work, try the following"
   ]
  },
  {
   "cell_type": "markdown",
   "id": "c3a3fecb-6969-4b83-9b19-c54999ec7770",
   "metadata": {},
   "source": [
    "### Run Packet Captures"
   ]
  },
  {
   "cell_type": "markdown",
   "id": "2068618f-ee4c-4a00-9071-cdc03b70c5cc",
   "metadata": {},
   "source": [
    "#### Start Capturer containers"
   ]
  },
  {
   "cell_type": "code",
   "execution_count": null,
   "id": "33d04a04-09e2-4d52-8e46-cdd61ec58a14",
   "metadata": {},
   "outputs": [],
   "source": [
    "# for node in nodes:\n",
    "#     owl.start_owl_capturer(slice, dst_node=node, img_name=image_name, duration=30)"
   ]
  },
  {
   "cell_type": "markdown",
   "id": "0a89611a-9927-4a1e-99aa-4c1f2272617d",
   "metadata": {},
   "source": [
    "### Start Sender containers"
   ]
  },
  {
   "cell_type": "code",
   "execution_count": null,
   "id": "124f9add-47c0-43dd-926b-cb8559a00e83",
   "metadata": {},
   "outputs": [],
   "source": [
    "# for src_node in nodes:\n",
    "#     for dst_node in nodes:\n",
    "#         if dst_node.get_name() != src_node.get_name():\n",
    "#             print(f\"{src_node.get_name()} --> {dst_node.get_name()}\")\n",
    "#             owl.start_owl_sender(slice, src_node=src_node, dst_node=dst_node, img_name=image_name, duration=86400)"
   ]
  },
  {
   "cell_type": "markdown",
   "id": "8ee126e9-eaa7-4758-b682-86b696a7b1f8",
   "metadata": {
    "tags": []
   },
   "source": [
    "## Check the status of containers"
   ]
  },
  {
   "cell_type": "code",
   "execution_count": null,
   "id": "01df62d4-baaf-4577-8949-f82750bdef87",
   "metadata": {},
   "outputs": [],
   "source": [
    "if eligible is True:\n",
    "    print ('Checking owl...')\n",
    "    owl.check_owl_all(slice)\n",
    "    print ('Waiting 120 seconds for owl to collect data...')\n",
    "    time.sleep(120)"
   ]
  },
  {
   "cell_type": "markdown",
   "id": "e9097124-72b5-47ed-88d1-0d1667aacba8",
   "metadata": {},
   "source": [
    "## Check if pcap files are being generated"
   ]
  },
  {
   "cell_type": "code",
   "execution_count": null,
   "id": "dd47d1dc-e5a8-4e78-afa5-7028455fa86c",
   "metadata": {},
   "outputs": [],
   "source": [
    "#if elgible:\n",
    "#    for node in nodes:\n",
    "#        node.execute(\"ls -lh ~/owl-output/\")"
   ]
  },
  {
   "cell_type": "markdown",
   "id": "4e2e9b80-88ad-43b5-8fc1-ad8d469e130a",
   "metadata": {},
   "source": [
    "## Stop all of them"
   ]
  },
  {
   "cell_type": "code",
   "execution_count": null,
   "id": "d5ab2c59-2159-4c91-99fc-ae08c33305d7",
   "metadata": {},
   "outputs": [],
   "source": [
    "if eligible is True:\n",
    "    print ('Stoping owl...')\n",
    "    owl.stop_owl_all(slice)"
   ]
  },
  {
   "cell_type": "markdown",
   "id": "8c846480-9d0a-4bd5-a220-c6cacb59ae1d",
   "metadata": {},
   "source": [
    "# (Optional) Download pcap files"
   ]
  },
  {
   "cell_type": "code",
   "execution_count": null,
   "id": "f7d4acc7-5af9-4880-b617-ce950747f280",
   "metadata": {},
   "outputs": [],
   "source": [
    "if eligible is True: \n",
    "    for node in nodes:\n",
    "        if node.get_name() != 'meas-node':\n",
    "            pcap_name, _ = node.execute(\"ls ~/owl-output\")\n",
    "            node.download_file(f\"./{pcap_name.strip()}\", f\"/home/rocky/owl-output/{pcap_name.strip()}\",)"
   ]
  },
  {
   "cell_type": "code",
   "execution_count": null,
   "id": "58e08022-8f3e-4d11-ad8d-5295a97f0f18",
   "metadata": {},
   "outputs": [],
   "source": []
  }
 ],
 "metadata": {
  "kernelspec": {
   "display_name": "Python 3 (ipykernel)",
   "language": "python",
   "name": "python3"
  },
  "language_info": {
   "codemirror_mode": {
    "name": "ipython",
    "version": 3
   },
   "file_extension": ".py",
   "mimetype": "text/x-python",
   "name": "python",
   "nbconvert_exporter": "python",
   "pygments_lexer": "ipython3",
   "version": "3.10.6"
  }
 },
 "nbformat": 4,
 "nbformat_minor": 5
}
