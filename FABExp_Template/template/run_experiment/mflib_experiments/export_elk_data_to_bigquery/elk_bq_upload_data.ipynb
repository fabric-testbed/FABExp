{
 "cells": [
  {
   "cell_type": "markdown",
   "id": "6581b093-796b-4f38-b703-ffd6f938f28c",
   "metadata": {},
   "source": [
    "# Query Elasticsearch and Upload Data to Bigquery"
   ]
  },
  {
   "cell_type": "markdown",
   "id": "17650237-74f6-4db2-b4ac-f68134504c5f",
   "metadata": {},
   "source": [
    "## Import "
   ]
  },
  {
   "cell_type": "code",
   "execution_count": null,
   "id": "d5a3b09e-8082-4b7f-a754-83d8e9d7ff83",
   "metadata": {},
   "outputs": [],
   "source": [
    "# Import libraries\n",
    "%run ../../../setup/include/include_libraries.py\n",
    "# load general variables\n",
    "%run ../../../slice_info/selected_slice.py"
   ]
  },
  {
   "cell_type": "markdown",
   "id": "a85189eb-9e90-48a7-82a1-a5d804a639e1",
   "metadata": {},
   "source": [
    "## Slice info"
   ]
  },
  {
   "cell_type": "code",
   "execution_count": null,
   "id": "39c4db9b-1078-4fec-84d0-6720ffa22367",
   "metadata": {},
   "outputs": [],
   "source": [
    "%%time\n",
    "mf = MFLib(selected_slice)"
   ]
  },
  {
   "cell_type": "code",
   "execution_count": null,
   "id": "02aa7ad3-4ef2-4ee2-a3c0-1c25f21c1f05",
   "metadata": {},
   "outputs": [],
   "source": [
    "container_name= 'elk-bigquery'"
   ]
  },
  {
   "cell_type": "markdown",
   "id": "0723148f-97d0-454a-ad0b-3cf2fc20fb7a",
   "metadata": {},
   "source": [
    "## Find Measurement Node"
   ]
  },
  {
   "cell_type": "code",
   "execution_count": null,
   "id": "decc8833-b41a-4dc4-9a9d-db86dabea5af",
   "metadata": {},
   "outputs": [],
   "source": [
    "meas_node_name = mf.measurement_node_name\n",
    "try:\n",
    "    slice = fablib.get_slice(name=selected_slice)\n",
    "except Exception as e:\n",
    "    print(f\"Fail: {e}\")\n",
    "print (slice)   \n",
    "\n",
    "try:\n",
    "    meas_node = slice.get_node(name=meas_node_name)\n",
    "except Exception as e:\n",
    "    print(f\"Fail: {e}\")   \n",
    "print (meas_node)"
   ]
  },
  {
   "cell_type": "markdown",
   "id": "1b6ae6f8-d2ac-4e4a-b65d-834979348837",
   "metadata": {},
   "source": [
    "## Find Elasticsearch Index Name"
   ]
  },
  {
   "cell_type": "code",
   "execution_count": null,
   "id": "7912a072-114a-40ce-9533-3fb3de80a464",
   "metadata": {},
   "outputs": [],
   "source": [
    "meas_node.execute(\"curl http://localhost:9200/_aliases?pretty=true\", quiet=True)"
   ]
  },
  {
   "cell_type": "markdown",
   "id": "e5b554bf-3044-4ca6-8a3e-42caa1fc73cd",
   "metadata": {},
   "source": [
    "## Setup Tunnel and View Kibana UI"
   ]
  },
  {
   "cell_type": "code",
   "execution_count": null,
   "id": "0902e348-c9d3-48fc-8ab2-11ef5b3198cc",
   "metadata": {},
   "outputs": [],
   "source": [
    "# The ELK service was created by the mf.instrumentize call.\n",
    "# Get access info for Kibana by using the mflib.info call to the elk service.\n",
    "# Create a dictionary to pass to the service.\n",
    "data = {}\n",
    "# Set the info you want to get.\n",
    "data[\"get\"] = [\"nginx_id\", \"nginx_password\"]\n",
    "# Call info using service name and data dictionary.\n",
    "info_results = mf.info(\"elk\", data)\n",
    "print(info_results)\n",
    "\n",
    "if info_results[\"success\"]:\n",
    "    print(f\"user: {info_results['nginx_id']} \\npass: {info_results['nginx_password']}\")\n",
    "\n",
    "# ELK SSH Tunnel Command\n",
    "# mf.kibana_tunnel_local_port = 10020 # optionally change the port\n",
    "print(mf.kibana_tunnel)\n",
    "\n",
    "print(f\"Browse to http://localhost:{mf.kibana_tunnel_local_port}/\")"
   ]
  },
  {
   "cell_type": "markdown",
   "id": "edf0a647-5cc5-4dc3-abe8-7e67dc1de7b2",
   "metadata": {},
   "source": [
    "## Specify Google Project/Dataset/Table Name"
   ]
  },
  {
   "cell_type": "code",
   "execution_count": null,
   "id": "e7a01df7-4454-4253-8dc7-e469f317cc5b",
   "metadata": {},
   "outputs": [],
   "source": [
    "# Change project/dataset name to the ones you just created. \n",
    "project_name = 'elk-bigquery'\n",
    "packetbeat_dataset = 'packetbeat'\n",
    "filebeat_dataset = 'filebeat'\n",
    "metricbeat_dataset = 'metricbeat'\n",
    "# Table name can be random\n",
    "table = 'test'"
   ]
  },
  {
   "cell_type": "markdown",
   "id": "24761138-47ba-4336-9b39-49e3945afbc2",
   "metadata": {},
   "source": [
    "## Filebeat data"
   ]
  },
  {
   "cell_type": "code",
   "execution_count": null,
   "id": "f04ecb70-82fd-4f95-b2bf-6ba1a08f8546",
   "metadata": {},
   "outputs": [],
   "source": [
    "# Specify the elasticsearch index name \n",
    "index = 'filebeat-7.13.2-2023.09.27-000001'\n",
    "query = '{\"query\":{\"range\":{\"@timestamp\":{\"gte\":\"now-10m\"}}}}'\n",
    "# Bigquery table name: project.dataset.tablename\n",
    "table_name = f'{project_name}.{filebeat_dataset}.{table}'\n",
    "key_string = f'--key key.json'\n",
    "code_file_name = 'elk-bigquery.py'\n",
    "command = f'''sudo docker exec -i {container_name} python3 {code_file_name} --query '{query}' --index {index} {key_string} --table {table_name }'''\n",
    "print (command)"
   ]
  },
  {
   "cell_type": "code",
   "execution_count": null,
   "id": "128c95ce-59f5-4471-8dfb-0424a5f14f72",
   "metadata": {},
   "outputs": [],
   "source": [
    "meas_node.execute(command)"
   ]
  },
  {
   "cell_type": "markdown",
   "id": "b9d92479-2569-455b-b777-7cb5bef6473f",
   "metadata": {},
   "source": [
    "## Packetbeat Data"
   ]
  },
  {
   "cell_type": "code",
   "execution_count": null,
   "id": "d4223363-3ecb-4844-b2fd-0f81900f33c9",
   "metadata": {},
   "outputs": [],
   "source": [
    "# Specify the elasticsearch index name\n",
    "index = 'packetbeat-7.13.2-2023.09.27-000001'\n",
    "query = '{\"query\":{\"range\":{\"@timestamp\":{\"gte\":\"now-10m\"}}}}'\n",
    "# Bigquery table name: project.dataset.tablename\n",
    "table_name = f'{project_name}.{packetbeat_dataset}.{table}'\n",
    "key_string = f'--key key.json'\n",
    "code_file_name = 'elk-bigquery.py'\n",
    "command = f'''sudo docker exec -i {container_name} python3 {code_file_name} --query '{query}' --index {index} {key_string} --table {table_name }'''\n",
    "print (command)"
   ]
  },
  {
   "cell_type": "code",
   "execution_count": null,
   "id": "efbeb676-33a6-4d51-b557-37766fe55ecd",
   "metadata": {},
   "outputs": [],
   "source": [
    "meas_node.execute(command)"
   ]
  },
  {
   "cell_type": "markdown",
   "id": "5234c0d4-5d49-4177-8cbd-c165e7387b96",
   "metadata": {},
   "source": [
    "## Metricbeat Data"
   ]
  },
  {
   "cell_type": "code",
   "execution_count": null,
   "id": "365be385-0b81-4717-bf3a-7bf916f72ff5",
   "metadata": {},
   "outputs": [],
   "source": [
    "# Specify the elasticsearch index name\n",
    "index = 'metricbeat-7.13.2-2023.09.27-000001'\n",
    "query = '{\"query\":{\"range\":{\"@timestamp\":{\"gte\":\"now-10m\"}}}}'\n",
    "# Bigquery table name: project.dataset.tablename\n",
    "table_name = f'{project_name}.{metricbeat_dataset}.{table}'\n",
    "key_string = f'--key key.json'\n",
    "code_file_name = 'elk-bigquery.py'\n",
    "command = f'''sudo docker exec -i {container_name} python3 {code_file_name} --query '{query}' --index {index} {key_string} --table {table_name }'''\n",
    "print (command)"
   ]
  },
  {
   "cell_type": "code",
   "execution_count": null,
   "id": "f4877e6c-0ca8-4beb-b3f6-91ed60022b50",
   "metadata": {},
   "outputs": [],
   "source": [
    "meas_node.execute(command)"
   ]
  },
  {
   "cell_type": "markdown",
   "id": "2446a827-9006-4731-9b01-5853c2b48fe8",
   "metadata": {},
   "source": [
    "## Go to Bigquery web UI to view the data"
   ]
  },
  {
   "cell_type": "markdown",
   "id": "b0a02ab2-e28a-4495-aa80-d189206344d6",
   "metadata": {},
   "source": [
    "https://cloud.google.com/bigquery"
   ]
  },
  {
   "cell_type": "code",
   "execution_count": null,
   "id": "013129b8-1463-4eab-9bc1-a0c4ee96479a",
   "metadata": {},
   "outputs": [],
   "source": []
  }
 ],
 "metadata": {
  "kernelspec": {
   "display_name": "Python 3 (ipykernel)",
   "language": "python",
   "name": "python3"
  },
  "language_info": {
   "codemirror_mode": {
    "name": "ipython",
    "version": 3
   },
   "file_extension": ".py",
   "mimetype": "text/x-python",
   "name": "python",
   "nbconvert_exporter": "python",
   "pygments_lexer": "ipython3",
   "version": "3.10.6"
  }
 },
 "nbformat": 4,
 "nbformat_minor": 5
}
