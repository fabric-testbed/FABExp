{
 "cells": [
  {
   "cell_type": "markdown",
   "id": "9565336a-5af8-445c-97fa-2d8ab9521688",
   "metadata": {},
   "source": [
    "# Query Data from Bigquery"
   ]
  },
  {
   "cell_type": "markdown",
   "id": "f67f6e21-14e0-4f55-a2fd-57e2838de7c9",
   "metadata": {},
   "source": [
    "## Install bigquery python client on Jupyterhub"
   ]
  },
  {
   "cell_type": "code",
   "execution_count": null,
   "id": "cb5276a3-dbe2-4d20-8c15-3d0a2a586a83",
   "metadata": {
    "scrolled": true,
    "tags": []
   },
   "outputs": [],
   "source": [
    "# Install libraries\n",
    "%run ../../../setup/install/install_libraries.ipynb\n",
    "# Import libraries\n",
    "%run ../../../setup/include/include_libraries.py"
   ]
  },
  {
   "cell_type": "markdown",
   "id": "5469e5d1-b9d1-405d-9130-d7d590241fa7",
   "metadata": {},
   "source": [
    "## Create Bigquery Client"
   ]
  },
  {
   "cell_type": "code",
   "execution_count": null,
   "id": "5041dee5-4c8c-4273-a3bd-12d2094d6274",
   "metadata": {},
   "outputs": [],
   "source": [
    "# You need to upload your google service account key to Jupyterhub and specify the path of the key file\n",
    "from google.cloud import bigquery\n",
    "from google.oauth2 import service_account\n",
    "\n",
    "cwd = os.getcwd()\n",
    "key_file_relative_path = \"google_service_account_key/key.json\"\n",
    "key_file_path = os.path.join(cwd, key_file_relative_path)\n",
    "\n",
    "credentials = service_account.Credentials.from_service_account_file(\n",
    "    key_file_path,\n",
    "    scopes=[\"https://www.googleapis.com/auth/cloud-platform\"],\n",
    ")\n",
    "bigquery_client=bigquery.Client(\n",
    "    credentials=credentials,\n",
    "    project=credentials.project_id,\n",
    ")"
   ]
  },
  {
   "cell_type": "markdown",
   "id": "0c41dc71-4b7f-4a5d-bfb9-32aa76e13650",
   "metadata": {},
   "source": [
    "## Example Queries"
   ]
  },
  {
   "cell_type": "markdown",
   "id": "0bc9fa02-a868-48e6-ad28-4545a218c88e",
   "metadata": {},
   "source": [
    "### Query Filebeat Data"
   ]
  },
  {
   "cell_type": "code",
   "execution_count": null,
   "id": "c956819d-3131-43fe-a5f7-2fd48d9c6000",
   "metadata": {},
   "outputs": [],
   "source": [
    "QUERY = \"\"\"\n",
    "SELECT\n",
    "  `timestamp`, `user_name`, `source_ip`, `source_geo_country_iso_code`\n",
    "FROM\n",
    "  `elk-bigquery.filebeat.test`\n",
    "WHERE\n",
    "  `system_auth_ssh_event`='Accepted'\n",
    "\"\"\"\n",
    "\n",
    "Query_Results = bigquery_client.query(QUERY)\n",
    "df = Query_Results.to_dataframe()\n",
    "\n",
    "df"
   ]
  },
  {
   "cell_type": "markdown",
   "id": "b550f61a-63dc-41a0-b047-1d1c570c9d1f",
   "metadata": {},
   "source": [
    "### Query Metricbeat Data"
   ]
  },
  {
   "cell_type": "code",
   "execution_count": null,
   "id": "46167323-8ed7-46c1-8640-4269e75c47ef",
   "metadata": {},
   "outputs": [],
   "source": [
    "QUERY = \"\"\"\n",
    "SELECT\n",
    "  `timestamp`, `host_hostname`, `system_network_out_packets`, `system_network_name`\n",
    "FROM\n",
    "  `elk-bigquery.metricbeat.test`\n",
    "WHERE\n",
    "  `system_network_out_packets` > 10000\n",
    "  \"\"\"\n",
    "\n",
    "Query_Results = bigquery_client.query(QUERY)\n",
    "df = Query_Results.to_dataframe()\n",
    "df"
   ]
  },
  {
   "cell_type": "markdown",
   "id": "89b194c9-5758-49ce-8ed6-4b7f3c69838e",
   "metadata": {},
   "source": [
    "### Query Packetbeat Data"
   ]
  },
  {
   "cell_type": "code",
   "execution_count": null,
   "id": "1138b60d-f0bd-4d94-a87f-acb3043c7efb",
   "metadata": {},
   "outputs": [],
   "source": [
    "QUERY = \"\"\"\n",
    "SELECT\n",
    "  *\n",
    "FROM\n",
    "  `elk-bigquery.packetbeat.test`\n",
    "WHERE\n",
    "  `destination_port` = 22\n",
    "  \"\"\"\n",
    "\n",
    "Query_Results = bigquery_client.query(QUERY)\n",
    "df = Query_Results.to_dataframe()\n",
    "df"
   ]
  }
 ],
 "metadata": {
  "kernelspec": {
   "display_name": "Python 3 (ipykernel)",
   "language": "python",
   "name": "python3"
  },
  "language_info": {
   "codemirror_mode": {
    "name": "ipython",
    "version": 3
   },
   "file_extension": ".py",
   "mimetype": "text/x-python",
   "name": "python",
   "nbconvert_exporter": "python",
   "pygments_lexer": "ipython3",
   "version": "3.10.6"
  }
 },
 "nbformat": 4,
 "nbformat_minor": 5
}
