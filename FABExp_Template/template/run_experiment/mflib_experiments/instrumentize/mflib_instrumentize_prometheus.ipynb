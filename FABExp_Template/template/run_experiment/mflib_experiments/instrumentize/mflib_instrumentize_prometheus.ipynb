{
 "cells": [
  {
   "cell_type": "markdown",
   "id": "c64e9f6c-1888-4dff-a69a-bf9078f3d3bc",
   "metadata": {},
   "source": [
    "## Imports"
   ]
  },
  {
   "cell_type": "code",
   "execution_count": null,
   "id": "1c9a4ad0-59fa-4142-ad85-a7112f5b5c76",
   "metadata": {},
   "outputs": [],
   "source": [
    "from state import *\n",
    "\n",
    "# Import libraries\n",
    "%run ../../../setup/include/include_libraries.py\n",
    "# load general variables\n",
    "%run ../../../slice_info/selected_slice.py"
   ]
  },
  {
   "cell_type": "markdown",
   "id": "b6744436-5fab-488f-ad36-09909e30779b",
   "metadata": {},
   "source": [
    "## Instrumentize Prometheus"
   ]
  },
  {
   "cell_type": "code",
   "execution_count": null,
   "id": "dc211bd6-179b-4df0-8db4-e7b80d2d11a5",
   "metadata": {},
   "outputs": [],
   "source": [
    "try:\n",
    "    mf = MFLib(selected_slice)\n",
    "    instrumetize_results = mf.instrumentize( [\"prometheus\"] )\n",
    "except Exception as e:\n",
    "    print(f\"Exception: {e}\")\n",
    "    raise SystemExit(\"Stopping notebook execution due to exception\")"
   ]
  },
  {
   "cell_type": "markdown",
   "id": "26328c63-2727-4854-845b-dbb1196283b3",
   "metadata": {},
   "source": [
    "## Update state"
   ]
  },
  {
   "cell_type": "code",
   "execution_count": null,
   "id": "ba913736-c13b-4b3e-8cad-117638bff803",
   "metadata": {},
   "outputs": [],
   "source": [
    "if instrumetize_results['prometheues']['success']:\n",
    "    update_state_local(selected_slice, 'PROMETHEUS_INSTRUMENTIZED')\n",
    "    update_state_in_fim(selected_slice, read_state_from_local(selected_slice))\n",
    "else:\n",
    "    print ('State is not updated due to errors when instrumentizing prometheus')"
   ]
  }
 ],
 "metadata": {
  "kernelspec": {
   "display_name": "Python 3 (ipykernel)",
   "language": "python",
   "name": "python3"
  },
  "language_info": {
   "codemirror_mode": {
    "name": "ipython",
    "version": 3
   },
   "file_extension": ".py",
   "mimetype": "text/x-python",
   "name": "python",
   "nbconvert_exporter": "python",
   "pygments_lexer": "ipython3",
   "version": "3.10.6"
  }
 },
 "nbformat": 4,
 "nbformat_minor": 5
}
