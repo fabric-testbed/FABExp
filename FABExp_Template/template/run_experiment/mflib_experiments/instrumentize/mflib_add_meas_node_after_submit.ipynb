{
 "cells": [
  {
   "cell_type": "markdown",
   "id": "9754b798-18c8-4e28-9d30-2bfbc82e755e",
   "metadata": {},
   "source": [
    "## Add Measurement Node to the Slice"
   ]
  },
  {
   "cell_type": "markdown",
   "id": "8826093e-9a9a-4fd3-abee-4850e8f16686",
   "metadata": {},
   "source": [
    "### Import"
   ]
  },
  {
   "cell_type": "code",
   "execution_count": null,
   "id": "78465f53-7dc9-48d0-8b5b-47ffa539bbd4",
   "metadata": {},
   "outputs": [],
   "source": [
    "from state import *\n",
    "\n",
    "# Import libraries\n",
    "%run ../../../setup/include/include_libraries.py\n",
    "# load general variables\n",
    "%run ../../../slice_info/selected_slice.py"
   ]
  },
  {
   "cell_type": "markdown",
   "id": "e4320078-2d73-4cd5-8d14-60ba6a1a6215",
   "metadata": {},
   "source": [
    "### Add Measurement Node"
   ]
  },
  {
   "cell_type": "code",
   "execution_count": null,
   "id": "3c30b0de-d456-4b48-9a4b-89c5674f5d9c",
   "metadata": {},
   "outputs": [],
   "source": [
    "# You can change the disk size if necessary\n",
    "try:\n",
    "    slice = fablib.get_slice(name=selected_slice)\n",
    "    # Add measurement node to topology using static method.\n",
    "    MFLib.addMeasNode(slice, disk=100, image='docker_ubuntu_20')\n",
    "    print(\"Done\")\n",
    "    slice.submit()\n",
    "    success=True\n",
    "except Exception as e:\n",
    "    print(f\"Exception: {e}\")\n",
    "    success=False\n",
    "    raise SystemExit(\"Stopping notebook execution due to exception\")"
   ]
  },
  {
   "cell_type": "markdown",
   "id": "50506abe-9ba0-4207-880a-bfb2465d4b2f",
   "metadata": {},
   "source": [
    "### Update State"
   ]
  },
  {
   "cell_type": "code",
   "execution_count": null,
   "id": "d8766e2a-45ca-41a7-8492-736473cff462",
   "metadata": {},
   "outputs": [],
   "source": [
    "if success:\n",
    "    update_state_local(selected_slice, 'MEAS_NODE_ADDED')\n",
    "    update_state_in_fim(selected_slice, read_state_from_local(selected_slice))\n",
    "else:\n",
    "    print ('State is not updated due to error')"
   ]
  }
 ],
 "metadata": {
  "kernelspec": {
   "display_name": "Python 3 (ipykernel)",
   "language": "python",
   "name": "python3"
  },
  "language_info": {
   "codemirror_mode": {
    "name": "ipython",
    "version": 3
   },
   "file_extension": ".py",
   "mimetype": "text/x-python",
   "name": "python",
   "nbconvert_exporter": "python",
   "pygments_lexer": "ipython3",
   "version": "3.10.6"
  }
 },
 "nbformat": 4,
 "nbformat_minor": 5
}
