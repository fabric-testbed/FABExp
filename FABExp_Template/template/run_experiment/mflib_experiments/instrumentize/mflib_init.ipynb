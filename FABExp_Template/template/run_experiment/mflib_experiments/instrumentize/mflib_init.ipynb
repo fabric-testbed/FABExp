{
 "cells": [
  {
   "cell_type": "markdown",
   "id": "fbcaf462-a59b-483f-9aad-140d78d0efea",
   "metadata": {},
   "source": [
    "## Import "
   ]
  },
  {
   "cell_type": "code",
   "execution_count": null,
   "id": "2f5d980a-e4c6-4621-851d-d21b9d986886",
   "metadata": {},
   "outputs": [],
   "source": [
    "from state import *\n",
    "\n",
    "# Import libraries\n",
    "%run ../../../setup/include/include_libraries.py\n",
    "# load general variables\n",
    "%run ../../../slice_info/selected_slice.py"
   ]
  },
  {
   "cell_type": "markdown",
   "id": "ed461043-770f-4724-b621-9037b536cb78",
   "metadata": {},
   "source": [
    "## Init"
   ]
  },
  {
   "cell_type": "code",
   "execution_count": null,
   "id": "879433d7-d242-4ecd-b60a-8e7f690e143e",
   "metadata": {},
   "outputs": [],
   "source": [
    "try:\n",
    "    mf = MFLib(selected_slice)\n",
    "except Exception as e:\n",
    "    print(f\"Exception: {e}\")\n",
    "    raise SystemExit(\"Stopping notebook execution due to exception\")"
   ]
  },
  {
   "cell_type": "markdown",
   "id": "783df455-116d-4fcf-acfe-f667bc570bbc",
   "metadata": {},
   "source": [
    "## Update State"
   ]
  },
  {
   "cell_type": "code",
   "execution_count": null,
   "id": "41901eaf-223a-45ab-8dcb-e571e89c2c72",
   "metadata": {},
   "outputs": [],
   "source": [
    "if mf:\n",
    "    update_state_local(selected_slice, 'MFLIB_INITIATED')\n",
    "    update_state_local(selected_slice, 'PTP_INSTALLED')\n",
    "    update_state_local(selected_slice, 'DOCKER_INSTALLED')\n",
    "    update_state_in_fim(selected_slice, read_state_from_local(selected_slice))\n",
    "else:\n",
    "    print ('State is not updated due to error')"
   ]
  }
 ],
 "metadata": {
  "kernelspec": {
   "display_name": "Python 3 (ipykernel)",
   "language": "python",
   "name": "python3"
  },
  "language_info": {
   "codemirror_mode": {
    "name": "ipython",
    "version": 3
   },
   "file_extension": ".py",
   "mimetype": "text/x-python",
   "name": "python",
   "nbconvert_exporter": "python",
   "pygments_lexer": "ipython3",
   "version": "3.10.6"
  }
 },
 "nbformat": 4,
 "nbformat_minor": 5
}
