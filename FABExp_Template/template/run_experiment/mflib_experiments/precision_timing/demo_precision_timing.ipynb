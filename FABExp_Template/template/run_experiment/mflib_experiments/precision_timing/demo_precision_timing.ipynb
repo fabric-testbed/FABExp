{
 "cells": [
  {
   "cell_type": "markdown",
   "id": "dfb6199e-9894-4896-89f4-4707eacb30ac",
   "metadata": {
    "tags": []
   },
   "source": [
    "## Demonstrate the use of Precision Timing Capability\n",
    "In this experiment, we will start a tcpdump process to capture all ICMP request packets with a nano-second high precision timestamp obtained from the NIC/PHC Clock into `PCAP` files. We will then send 5 ping packets from Node1 to Node4. Once the ping operation is complete, we will gather the pcap files and perform an analysis \n",
    "on the packet's timestamps by tracking each packet as it flows though all the hops to reach its destination.\n",
    "\n",
    "**Note: This notebook shows how to enable/disable PTP on a node in the topology. To see the difference(packet timsamp results with PTP on/off), users need to set up the network correctly and run tcpdump and ping on the correct interface. Due to the complexity of user-defined topology, users can modify this notebook or refer to https://github.com/fabric-testbed/jupyter-examples/blob/main/fabric_examples/public_demos/KNIT7/Tutorial1_Precision_Time_Measurements_in_FABRIC/knit7_create_topology.ipynb for a topology that works for this notebook.**\n",
    "\n",
    "## Install python-scapy library"
   ]
  },
  {
   "cell_type": "code",
   "execution_count": null,
   "id": "ac6b54c3-2c5e-4020-ae2e-7dd95fe4ab93",
   "metadata": {
    "tags": []
   },
   "outputs": [],
   "source": [
    "%%bash\n",
    "pip install scapy\n",
    "pip install --upgrade plotly\n",
    "chmod +x tools/*"
   ]
  },
  {
   "cell_type": "markdown",
   "id": "65ecf58f-557e-42a4-b52d-35ead0fb1232",
   "metadata": {},
   "source": [
    "## Import the FABlib Library"
   ]
  },
  {
   "cell_type": "code",
   "execution_count": null,
   "id": "593099ca-343a-498e-b052-1a0de11e764c",
   "metadata": {
    "tags": []
   },
   "outputs": [],
   "source": [
    "from scapy.all import *\n",
    "\n",
    "from IPython.core.getipython import get_ipython\n",
    "\n",
    "# Import libraries\n",
    "%run ../../../setup/include/include_libraries.py\n",
    "# Import selected slice name\n",
    "%run ../../../slice_info/selected_slice.py\n",
    "\n",
    "\n",
    "# Import topology_variables\n",
    "\n",
    "# Use the button in the GUI automatically does it for you\n",
    "if os.getenv('SELECTED_SLICE') is not None:\n",
    "    SELECTED_SLICE = os.getenv('SELECTED_SLICE')\n",
    "\n",
    "# If you manually run the notebook, please specify the slice name in the line below\n",
    "#SELECTED_SLICE = 'MySlice2'\n",
    "\n",
    "path = f'../../../slice_info/{SELECTED_SLICE}/topology_variables.ipynb'\n",
    "get_ipython().run_line_magic('run', path)\n"
   ]
  },
  {
   "cell_type": "markdown",
   "id": "007d0d42-34da-4d9e-b6e7-dfaf5b82e458",
   "metadata": {},
   "source": [
    "## Get Slice Name"
   ]
  },
  {
   "cell_type": "code",
   "execution_count": null,
   "id": "ac0f08df-5d20-4d36-b3b4-9dd2e849bdcc",
   "metadata": {},
   "outputs": [],
   "source": [
    "#slice_name=f\"Slice for KNIT7 Precision Timing Tutorial\"\n",
    "slice = fablib.get_slice(name = selected_slice)\n",
    "slice.show()\n",
    "slice.list_nodes()\n",
    "slice.list_networks()\n",
    "slice.list_interfaces()\n",
    "\n",
    "topo_eligible = False\n",
    "print ('This notebook shows how to turn on/off ptp on a node. Please modify this notebook to start tcpdump and run ping tests on the correct interfaces of nodes.')"
   ]
  },
  {
   "cell_type": "markdown",
   "id": "3e5ba589-351d-4e25-906d-70c4232e31f3",
   "metadata": {},
   "source": [
    "## Experiment Setup\n",
    "### Perform the trials - (a) Time skewed on a node (b) Time synchronized using PTP on all nodes\n",
    "\n",
    "1. Upload  bash scripts in tools directory that will perform tcpdumps\n",
    "2. Start tcpdump on all nodes\n",
    "3. Start a series of 5 pings from Node1 to Node4\n",
    "4. Stop the tcpdump operation.\n",
    "5. Gather all pcap files from the tcpdump operation\n",
    "\n",
    "### Trial 1 (Time skewed on Node3)\n",
    "#### Disable PTP Synchronization and Skew Clock time on NICs Node3"
   ]
  },
  {
   "cell_type": "code",
   "execution_count": null,
   "id": "b54bed71-279d-4b9d-bded-2edb0e2f843b",
   "metadata": {},
   "outputs": [],
   "source": [
    "import datetime\n",
    "if topo_eligible is True:\n",
    "    node3 = slice.get_node(name='node3')\n",
    "    node3_interfaces = node3.get_interfaces()\n",
    "    for interface_obj in node3_interfaces:\n",
    "        interface = interface_obj.get_device_name()\n",
    "        print (f\"Working on node3->{interface}\")\n",
    "        print (f\" Stopping PTP Synchronization on node3->{interface}\")\n",
    "        stdout,stderr = node3.execute(f'sudo systemctl stop phc2sys@{interface}.service')\n",
    "    \n",
    "        print (f\" Get Time from node3->{interface} CLOCK/PHC\")\n",
    "        stdout,stderr = node3.execute(\"sudo ethtool -T \"+interface+\"|grep 'PTP Hardware Clock:'|awk '{print $4}'\",quiet=True)\n",
    "        ptp_index = stdout.strip()\n",
    "        stdout,stderr = node3.execute(f\"sudo phc_ctl /dev/ptp{ptp_index} get\")\n",
    "        curr_time = float(stdout.split()[4])\n",
    "        print (f\" Skew Time on node3->{interface} CLOCK/PHC ...\")\n",
    "        stdout,stderr = node3.execute(\"sudo phc_ctl /dev/ptp\"+ptp_index+\" set \" + str(int(curr_time)) + \";sudo phc_ctl /dev/ptp\"+ptp_index+\" cmp\")\n",
    "\n",
    "    print (f\"Time Skew Operation Completed\\n\\n\")"
   ]
  },
  {
   "cell_type": "markdown",
   "id": "012ee9a3-5583-43a9-b283-a9c1e661b256",
   "metadata": {},
   "source": [
    "#### Start traffic generator and caputure packets"
   ]
  },
  {
   "cell_type": "code",
   "execution_count": null,
   "id": "e6a17783-3eab-4b90-8821-f7369eafacb6",
   "metadata": {
    "tags": []
   },
   "outputs": [],
   "source": [
    "# Your code here\n",
    "\n",
    "\n",
    "# nodes = slice.get_nodes()\n",
    "# mode = 'skewed'\n",
    "# node1 = None\n",
    "# for node in nodes:\n",
    "#     node.upload_directory('tools','~/')\n",
    "#     iface_name = None\n",
    "#     node_name = node.get_name()\n",
    "#     if(node_name in ['node1']):\n",
    "#         iface_name = (node.get_interfaces()[0]).get_physical_os_interface_name()\n",
    "#         node1 = node\n",
    "#     elif(node_name in ['node4']):\n",
    "#         iface_name = (node.get_interfaces()[0]).get_physical_os_interface_name()\n",
    "#     elif(node_name in ['node2']):\n",
    "#         iface_name = (node.get_interface(network_name='net1')).get_physical_os_interface_name()\n",
    "#     else:\n",
    "#         iface_name = (node.get_interface(network_name='net2')).get_physical_os_interface_name()\n",
    "#     print (f\"Starting tcpdump on {node_name}\")\n",
    "#     node.execute_thread(f\"sudo -b tools/start_dump.sh {node_name} {iface_name} {mode}\")\n",
    "    \n",
    "# stdout,stderr = node1.execute(f\"ping -c10 node4\")\n",
    "\n",
    "# for node in nodes:\n",
    "#     node_name = node.get_name()\n",
    "#     pcap_filename = f'{node_name}_{mode}.pcap'\n",
    "#     print (f\"Stop TCPDUMP and Download pcap file to {node_name}_{mode}.pcap\")\n",
    "#     stdout,stderr = node.execute(f\"sudo -b tools/stop_dump.sh\")\n",
    "#     node.download_file(pcap_filename,pcap_filename)"
   ]
  },
  {
   "cell_type": "markdown",
   "id": "3820162d-b052-445e-8587-408d70926dcf",
   "metadata": {},
   "source": [
    "### Trial 2 (Time synchronized using PTP)\n",
    "\n",
    "#### Start PTP synchronization again on Node3"
   ]
  },
  {
   "cell_type": "code",
   "execution_count": null,
   "id": "d5fd8c0e-352d-405e-8dd3-a3d1b7dae463",
   "metadata": {},
   "outputs": [],
   "source": [
    "if topo_eligible is True:\n",
    "    node3 = slice.get_node(name='node3')\n",
    "    node3_interfaces = node3.get_interfaces()\n",
    "    for interface_obj in node3_interfaces:\n",
    "        interface = interface_obj.get_device_name()\n",
    "        print (f\"Working on node3->{interface}\")\n",
    "        print (f\" Starting PTP Synchronization on node3->{interface}\")\n",
    "        stdout,stderr = node3.execute(f'sudo systemctl start phc2sys@{interface}.service;sleep 5')\n",
    "        print (f\" Get Time from node3->{interface} CLOCK/PHC\")\n",
    "        stdout,stderr = node3.execute(\"sudo ethtool -T \"+interface+\"|grep 'PTP Hardware Clock:'|awk '{print $4}'\",quiet=True)\n",
    "        ptp_index = stdout.strip()\n",
    "        stdout,stderr = node3.execute(f\"sudo phc_ctl /dev/ptp{ptp_index} get;sudo phc_ctl /dev/ptp{ptp_index} cmp\")\n",
    "\n",
    "    print (f\"Time Sync Operation Completed\\n\\n\")"
   ]
  },
  {
   "cell_type": "markdown",
   "id": "bbed9fc9-8889-416e-9b79-eb7ef5709739",
   "metadata": {},
   "source": [
    "#### Start traffic generator and caputure packets"
   ]
  },
  {
   "cell_type": "code",
   "execution_count": null,
   "id": "2f999ddb-1a20-4c04-a549-078ec696cfa0",
   "metadata": {},
   "outputs": [],
   "source": [
    "# Your code here\n",
    "\n",
    "# nodes = slice.get_nodes()\n",
    "# mode = 'synced'\n",
    "# node1 = None\n",
    "# for node in nodes:\n",
    "#     iface_name = None\n",
    "#     node_name = node.get_name()\n",
    "#     if(node_name in ['node1']):\n",
    "#         iface_name = (node.get_interfaces()[0]).get_physical_os_interface_name()\n",
    "#         node1 = node\n",
    "#     elif(node_name in ['node4']):\n",
    "#         iface_name = (node.get_interfaces()[0]).get_physical_os_interface_name()\n",
    "#     elif(node_name in ['node2']):\n",
    "#         iface_name = (node.get_interface(network_name='net1')).get_physical_os_interface_name()\n",
    "#     else:\n",
    "#         iface_name = (node.get_interface(network_name='net2')).get_physical_os_interface_name()\n",
    "#     print (f\"Starting tcpdump on {node_name}\")\n",
    "#     node.execute_thread(f\"sudo -b tools/start_dump.sh {node_name} {iface_name} {mode}\")\n",
    "    \n",
    "# stdout,stderr = node1.execute(f\"ping -c10 node4\")\n",
    "\n",
    "# for node in nodes:\n",
    "#     node_name = node.get_name()\n",
    "#     pcap_filename = f'{node_name}_{mode}.pcap'\n",
    "#     print (f\"Stop TCPDUMP and Download pcap file to {node_name}_{mode}.pcap\")\n",
    "#     stdout,stderr = node.execute(f\"sudo -b tools/stop_dump.sh\")\n",
    "#     node.download_file(pcap_filename,pcap_filename)"
   ]
  },
  {
   "cell_type": "markdown",
   "id": "fc646bab-6d53-43b1-9820-0036bc0d4647",
   "metadata": {},
   "source": [
    "## Analyze packet captures\n",
    "As the ping packets traverse thru node2 and node3 to reach node4, we collect pcap files at each hop on the incomming interfaces. Using the packet traces we identify each packet and compare the packet capture timestamps. If the clocks on all NICS were synchronized via GPS clocks, then we should see timestamps incrementing. If for some reason the clock on any one of the NICs is not synchronized, the timestamps may not sequentially match up and lead to miscalcuations in computing transit times at intermediate(or end) hops."
   ]
  },
  {
   "cell_type": "code",
   "execution_count": null,
   "id": "9a4acc12-09e0-43d5-a692-64205bb8530a",
   "metadata": {},
   "outputs": [],
   "source": [
    "# import pandas as pd\n",
    "# import plotly.express as px\n",
    "# import plotly.io as pio\n",
    "\n",
    "\n",
    "# pio.renderers.default = 'iframe'  # Necessary for displaying graphs. Will be cleaned at the end.\n",
    "# pd.set_option('display.precision', 9)"
   ]
  },
  {
   "cell_type": "code",
   "execution_count": null,
   "id": "fdce026f-1fcd-43d1-9d89-4240a6c70b86",
   "metadata": {},
   "outputs": [],
   "source": [
    "# nodes = slice.get_nodes()\n",
    "# node_names = [node.get_name() for node in nodes]"
   ]
  },
  {
   "cell_type": "code",
   "execution_count": null,
   "id": "0497b412-20f8-4cde-9a8f-1dd1ba0823c7",
   "metadata": {},
   "outputs": [],
   "source": [
    "# # Since displaying graphs within a loop does not work, we have to \"save\" the parsed data\n",
    "\n",
    "# parsed_data={}\n",
    "\n",
    "# for mode in ['skewed','synced']:\n",
    "#     parsed_packets = {}\n",
    "#     print (f'************** ANALYSIS for TRIAL : Node is time {mode} ***************************')\n",
    "#     for node in nodes:\n",
    "#         node_name = node.get_name()\n",
    "#         packets = PcapReader(f'{node_name}_{mode}.pcap')\n",
    "#         for packet in packets:\n",
    "#             new_list = []\n",
    "#             if (str(packet[IP].id) not in parsed_packets.keys()):\n",
    "#                 parsed_packets.update({ str(packet[IP].id): {node_name : {'src': packet[IP].src,'dst': packet[IP].dst,'timestamp': packet.time }}})\n",
    "#             else:\n",
    "#                 parsed_packets[str(packet[IP].id)].update({node_name : {'src': packet[IP].src,'dst': packet[IP].dst,'timestamp': packet.time }})\n",
    "    \n",
    "#     parsed_data[mode]=parsed_packets\n",
    "    \n",
    "#     packets = PcapReader(f'node1_{mode}.pcap')\n",
    "#     for packet in packets:\n",
    "#         if len(parsed_packets[str(packet[IP].id)]) == len(nodes):\n",
    "#             if (packet[IP].src == packet[IP].src) and (packet[IP].dst == packet[IP].dst):\n",
    "#                 print (f\"{packet.summary()} with ICMP SEQ# {packet[ICMP].seq} \\n\\\n",
    "#         found exiting node1 at {packet.time}\")\n",
    "#                 for other_node in ['node2','node3','node4']:\n",
    "#                     print(f\"\\\n",
    "#     and then entering {other_node} at {parsed_packets[str(packet[IP].id)][other_node]['timestamp']}\")\n",
    "#                 print (\"\\n\")\n",
    "#     print (f'***********************************************************************************\\n\\n\\n')\n",
    "    "
   ]
  },
  {
   "cell_type": "markdown",
   "id": "e4d57420-4621-4ac3-bc9c-4ee2b4033023",
   "metadata": {},
   "source": [
    "### Graph skewed clock result\n"
   ]
  },
  {
   "cell_type": "code",
   "execution_count": null,
   "id": "1fea2f61-81e8-4bd0-b86d-bb9e0def59cd",
   "metadata": {},
   "outputs": [],
   "source": [
    "# parsed_packets = parsed_data['skewed']\n",
    "\n",
    "# df = pd.DataFrame(index = node_names)\n",
    "# pd.set_option(\"display.precision\", 8)\n",
    "# for packet in parsed_packets:\n",
    "#     try:\n",
    "#         #print(packet)\n",
    "#         if len(parsed_packets[packet]) == len(node_names):\n",
    "#             df[packet] = [parsed_packets[packet]['node1']['timestamp'], parsed_packets[packet]['node2']['timestamp'], parsed_packets[packet]['node3']['timestamp'], parsed_packets[packet]['node4']['timestamp']]\n",
    "#     except Exception as e:\n",
    "#         print(e)\n",
    "\n",
    "# fig = px.line(df, x=node_names, y=df.columns, title = f'packet timestamps (skewed)', markers=True)\n",
    "# fig.update_layout(xaxis_title=\"Nodes\", yaxis_title=\"Timestamp\", legend_title=\"packet ID\", yaxis = dict(tickformat = '.9f'))\n",
    "# fig.show()"
   ]
  },
  {
   "cell_type": "markdown",
   "id": "ff8be03b-55a9-4e4e-ae97-8a552933e06e",
   "metadata": {},
   "source": [
    "### Graph corrected clock result"
   ]
  },
  {
   "cell_type": "code",
   "execution_count": null,
   "id": "4df0b288-536f-4b36-bbed-da58a3126e39",
   "metadata": {},
   "outputs": [],
   "source": [
    "# parsed_packets = parsed_data['synced']\n",
    "\n",
    "# df = pd.DataFrame(index = node_names)\n",
    "# for packet in parsed_packets:\n",
    "#     try:\n",
    "#         #print(packet)\n",
    "#         if len(parsed_packets[packet]) == len(node_names):\n",
    "#             df[packet] = [parsed_packets[packet]['node1']['timestamp'], parsed_packets[packet]['node2']['timestamp'], parsed_packets[packet]['node3']['timestamp'], parsed_packets[packet]['node4']['timestamp']]\n",
    "#     except Exception as e:\n",
    "#         print(e)\n",
    "\n",
    "# fig = px.line(df, x=node_names, y=df.columns, title = f'packet timestamps (synced)', markers=True)\n",
    "# fig.update_layout(xaxis_title=\"Nodes\", yaxis_title=\"Timestamp\", legend_title=\"packet ID\", yaxis = dict(tickformat = '.9f'))\n",
    "# fig.show()"
   ]
  },
  {
   "cell_type": "markdown",
   "id": "d57e1373-0d44-491d-9712-b2e572234b78",
   "metadata": {},
   "source": [
    "### (optional) Delete the graph figures saved under `./iframe_figures`"
   ]
  },
  {
   "cell_type": "code",
   "execution_count": null,
   "id": "817f678b-1299-4eb0-88ad-d89317017925",
   "metadata": {},
   "outputs": [],
   "source": [
    "# %%bash\n",
    "# rm iframe_figures/*"
   ]
  },
  {
   "cell_type": "code",
   "execution_count": null,
   "id": "b63445ee-d1ce-4b1f-822a-f4abb165856f",
   "metadata": {},
   "outputs": [],
   "source": []
  }
 ],
 "metadata": {
  "kernelspec": {
   "display_name": "Python 3 (ipykernel)",
   "language": "python",
   "name": "python3"
  },
  "language_info": {
   "codemirror_mode": {
    "name": "ipython",
    "version": 3
   },
   "file_extension": ".py",
   "mimetype": "text/x-python",
   "name": "python",
   "nbconvert_exporter": "python",
   "pygments_lexer": "ipython3",
   "version": "3.10.6"
  }
 },
 "nbformat": 4,
 "nbformat_minor": 5
}
