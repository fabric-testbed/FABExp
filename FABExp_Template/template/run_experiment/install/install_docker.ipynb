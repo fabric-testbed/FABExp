{
 "cells": [
  {
   "cell_type": "markdown",
   "id": "2f453a84-17e6-4aa5-97c6-cd44b7c62f6a",
   "metadata": {},
   "source": [
    "## Import"
   ]
  },
  {
   "cell_type": "code",
   "execution_count": null,
   "id": "b02c2678-c5fb-4c5a-8b0a-517a06e6b8ee",
   "metadata": {},
   "outputs": [],
   "source": [
    "from state import *\n",
    "\n",
    "# Import libraries\n",
    "%run ../../setup/include/include_libraries.py\n",
    "# load slice name\n",
    "%run ../../slice_info/selected_slice.py"
   ]
  },
  {
   "cell_type": "markdown",
   "id": "f390fed1-472c-4cd4-9308-54abb9640b49",
   "metadata": {},
   "source": [
    "## Observe Slice Attributes"
   ]
  },
  {
   "cell_type": "code",
   "execution_count": null,
   "id": "a5d00f7c-1a2b-4e3c-92bd-62a64eeb8d96",
   "metadata": {},
   "outputs": [],
   "source": [
    "try:\n",
    "    slice = fablib.get_slice(name=selected_slice)\n",
    "    success=True\n",
    "except Exception as e:\n",
    "    print(f\"Exception: {e}\")\n",
    "    success=False\n",
    "    raise SystemExit(\"Stopping notebook execution due to exception\")"
   ]
  },
  {
   "cell_type": "markdown",
   "id": "dc59d0f0-281b-4f78-bb57-4a0b0a86a8f8",
   "metadata": {},
   "source": [
    "## Install and enable docker on all nodes"
   ]
  },
  {
   "cell_type": "code",
   "execution_count": null,
   "id": "6e0d557d-5b2b-405f-a375-117f0adb53bf",
   "metadata": {},
   "outputs": [],
   "source": [
    "try:\n",
    "    nodes = slice.get_nodes()\n",
    "    for node in nodes:\n",
    "        print (node.get_image())\n",
    "        print (node.get_ssh_command())\n",
    "        node.upload_file(local_file_path='enable_docker.sh', remote_file_path= '/tmp/enable_docker.sh')\n",
    "        node.execute(f'cd /tmp/ ; chmod +x enable_docker.sh ; ./enable_docker.sh {node.get_image()}') \n",
    "    success=True\n",
    "except Exception as e:\n",
    "    print(f\"Exception: {e}\")\n",
    "    success=False\n",
    "    raise SystemExit(\"Stopping notebook execution due to exception\")\n",
    "    "
   ]
  },
  {
   "cell_type": "markdown",
   "id": "d22caddb-6cd1-4b4d-9e2e-7b3da45dfed8",
   "metadata": {},
   "source": [
    "## Update State"
   ]
  },
  {
   "cell_type": "code",
   "execution_count": null,
   "id": "86e21df1-ea31-45d7-8fa5-aac370818276",
   "metadata": {},
   "outputs": [],
   "source": [
    "if success:\n",
    "    update_state_local(selected_slice, 'DOCKER_INSTALLED')\n",
    "    update_state_in_fim(selected_slice, read_state_from_local(selected_slice))\n",
    "else:\n",
    "    print ('State is not updated due to error')"
   ]
  }
 ],
 "metadata": {
  "kernelspec": {
   "display_name": "Python 3 (ipykernel)",
   "language": "python",
   "name": "python3"
  },
  "language_info": {
   "codemirror_mode": {
    "name": "ipython",
    "version": 3
   },
   "file_extension": ".py",
   "mimetype": "text/x-python",
   "name": "python",
   "nbconvert_exporter": "python",
   "pygments_lexer": "ipython3",
   "version": "3.10.6"
  }
 },
 "nbformat": 4,
 "nbformat_minor": 5
}
