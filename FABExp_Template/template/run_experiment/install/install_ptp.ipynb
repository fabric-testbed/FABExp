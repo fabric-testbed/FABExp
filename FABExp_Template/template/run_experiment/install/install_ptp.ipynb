{
 "cells": [
  {
   "cell_type": "markdown",
   "id": "dfb6199e-9894-4896-89f4-4707eacb30ac",
   "metadata": {
    "tags": []
   },
   "source": [
    "# Enable Precision Timing Capability on Nodes\n",
    "This notebook downloads the [FABRIC PTP Deployment repository](https://github.com/fabric-testbed/ptp) from github onto the nodes in your FABRIC slice. Ansible playbook in this repo would deploy the [linuxptp software package](https://linuxptp.sourceforge.net/) to enable PTP on your nodes. Sites used in the topology should be PTP capable.\n",
    "\n",
    "## Import the FABlib and other Libraries"
   ]
  },
  {
   "cell_type": "code",
   "execution_count": null,
   "id": "593099ca-343a-498e-b052-1a0de11e764c",
   "metadata": {
    "tags": []
   },
   "outputs": [],
   "source": [
    "from state import *\n",
    "\n",
    "# Import libraries\n",
    "%run ../../setup/include/include_libraries.py\n",
    "# load slice name\n",
    "%run ../../slice_info/selected_slice.py"
   ]
  },
  {
   "cell_type": "markdown",
   "id": "007d0d42-34da-4d9e-b6e7-dfaf5b82e458",
   "metadata": {},
   "source": [
    "## Get Slice Name"
   ]
  },
  {
   "cell_type": "code",
   "execution_count": null,
   "id": "ac0f08df-5d20-4d36-b3b4-9dd2e849bdcc",
   "metadata": {},
   "outputs": [],
   "source": [
    "#slice_name=f\"Slice for KNIT7 Precision Timing Tutorial\"\n",
    "mySlice = fablib.get_slice(name = selected_slice)"
   ]
  },
  {
   "cell_type": "markdown",
   "id": "0bd81c1f-9e24-434e-b642-b137f6bad81b",
   "metadata": {},
   "source": [
    "## Observe Slice Attributes"
   ]
  },
  {
   "cell_type": "code",
   "execution_count": null,
   "id": "f4273273-726d-4869-b37b-55ae80818f44",
   "metadata": {},
   "outputs": [],
   "source": [
    "try:\n",
    "    slice = fablib.get_slice(name=selected_slice)\n",
    "    slice.show()\n",
    "    slice.list_nodes()\n",
    "    slice.list_networks()\n",
    "    slice.list_interfaces()\n",
    "except Exception as e:\n",
    "    print(f\"Exception: {e}\")"
   ]
  },
  {
   "cell_type": "markdown",
   "id": "544ecabf-f344-4779-9c27-fd51e0644241",
   "metadata": {},
   "source": [
    "## Check if nodes in the slice are PTP Capable\n",
    "* Not all FABRIC sites are PTP Capable. \n",
    "* The VMs use a virtual PTP device (ptp_kvm) which is time-synchronized by the host. \n",
    "* If the host is in sync with PTP, then the PTP time in the VMs should be accurate. \n",
    "* If the SITE/HOST is not PTP Capable, the VM may receive time in the virtual PTP device that may not be true PTP. \n",
    "* Even though the SITE/Node is not PTP Capable the software can still be installed and run but note that the timing observed will not be accurate."
   ]
  },
  {
   "cell_type": "code",
   "execution_count": null,
   "id": "e6a17783-3eab-4b90-8821-f7369eafacb6",
   "metadata": {},
   "outputs": [],
   "source": [
    "nodes = mySlice.get_nodes()\n",
    "for node in nodes:\n",
    "    print (f\"{node.get_name()} is hosted on {node.get_host()}\")\n",
    "    ad = fablib.get_site_advertisement(node.get_site())\n",
    "    print (f\"PTP Capable: { ad.flags.ptp}\\n\")"
   ]
  },
  {
   "cell_type": "markdown",
   "id": "f740c5b7-bbcd-451c-ba1a-448c87b44961",
   "metadata": {},
   "source": [
    "## Install and setup linuxptp package  on nodes\n",
    "Download the Ansible role to configure and install the LinuxPTP software. For more details regarding the steps performed in the playbook, please refer to the repo at [https://github.com/fabric-testbed/ptp](https://github.com/fabric-testbed/ptp)"
   ]
  },
  {
   "cell_type": "code",
   "execution_count": null,
   "id": "dade7cfa-5e29-4782-89af-14c6f4a065df",
   "metadata": {},
   "outputs": [],
   "source": [
    "pre_requisites = None\n",
    "\n",
    "# Set Deployment tool repository details\n",
    "repo_branch = 'main'\n",
    "repo_name = 'ptp'\n",
    "destination_folder = f\"\"\"/tmp/{repo_name}-{repo_branch}\"\"\"\n",
    "clone_instructions = f\"\"\"\n",
    "cd /tmp/;rm -rf /tmp/{repo_name}-{repo_branch};git clone --branch {repo_branch} https://github.com/fabric-testbed/{repo_name}.git {destination_folder};\n",
    "\"\"\""
   ]
  },
  {
   "cell_type": "markdown",
   "id": "b3aa9c12-b2f5-485e-94b2-e5ce55221318",
   "metadata": {
    "tags": []
   },
   "source": [
    "### Setting PTP Install Restrictions\n",
    "\n",
    "* If you do not want all interfaces synchronized to PTP, add the name of interfaces to avoid as shown\n",
    "* Management interfaces are not considered and are avoided by default\n",
    "* If you do not want the system clock synchronized to PTP set the 'SYNC_SYSTEM_CLOCK' to False\n",
    "* If you do not have any restrictions for a node, you can omit that node from the list\n",
    "\n",
    "Example:\n",
    "```\n",
    "NODE_RESTRICTIONS = { \n",
    "   'node1' : { 'AVOID_IFACES': ['enp6s0'],'SYNC_SYSTEM_CLOCK': False},\n",
    "   'node2' : { 'AVOID_IFACES': ['enp6s0','enp7s0']},\n",
    "}\n",
    "```"
   ]
  },
  {
   "cell_type": "code",
   "execution_count": null,
   "id": "5a0646a9-de6c-4d44-8b21-9cb8588875ee",
   "metadata": {},
   "outputs": [],
   "source": [
    "NODE_RESTRICTIONS = {}"
   ]
  },
  {
   "cell_type": "markdown",
   "id": "0d10c9c6-bddd-4650-a889-85a4ec1fd977",
   "metadata": {},
   "source": [
    "### Restrict Ansible operation based on tags\n",
    "\n",
    "* Possible values are ptp_stop,ptp_start,ptp_install \n",
    "* Only one tag is allowed\n",
    "* If empty then all three are performed in the right sequence\n",
    "* If NODE_RESTRICTIONS are applied along with the tags, the operations will not be performed on the AVOIDED INTERFACES\n",
    "\n",
    "Example\n",
    "```\n",
    "ansible_tags = 'ptp_stop'\n",
    "```"
   ]
  },
  {
   "cell_type": "code",
   "execution_count": null,
   "id": "f19df798-0c40-42e2-9035-3f581c33465b",
   "metadata": {},
   "outputs": [],
   "source": [
    "ansible_tags = ''"
   ]
  },
  {
   "cell_type": "markdown",
   "id": "9e7ce014-2ed1-4732-ac67-2a6629ef68d8",
   "metadata": {},
   "source": [
    "### Run Ansible playbook on each node"
   ]
  },
  {
   "cell_type": "code",
   "execution_count": null,
   "id": "987bde6b-82ff-42e4-afb7-4a08f6b38bd2",
   "metadata": {},
   "outputs": [],
   "source": [
    "try:\n",
    "    # Instruction to run ansible command from the node\n",
    "    ansible_instructions = f\"\"\"\n",
    "    cd {destination_folder}/ansible;ansible-playbook --connection=local --inventory 127.0.0.1, --limit 127.0.0.1 playbook_fabric_experiment_ptp.yml\"\"\"\n",
    "\n",
    "    #Create execute threads\n",
    "    execute_threads = {}\n",
    "\n",
    "    for node in nodes:\n",
    "        if [ele for ele in [\"rocky\", \"centos\"] if (ele in node.get_image())]:\n",
    "            pre_requisites = f\"\"\"\n",
    "            sudo dnf -y install epel-release ; sudo dnf -y install ansible git;\n",
    "            \"\"\"\n",
    "        elif [ele for ele in [\"ubuntu\", \"debian\"] if (ele in node.get_image())]:\n",
    "            pre_requisites = f\"\"\"sudo apt-get update;sudo apt-get -y install ansible git;\"\"\"\n",
    "        else:\n",
    "            pre_requisites = None\n",
    "        node_name = node.get_name()\n",
    "    \n",
    "        # Create JSON files for extra params that will be provided to ansible\n",
    "        if node_name in NODE_RESTRICTIONS.keys():    \n",
    "            extra_ansible_params = f\"\"\" --extra-vars @parameters.json\"\"\";\n",
    "            with open('/tmp/'+node_name+'-parameters.json', 'w') as f:\n",
    "                json.dump(NODE_RESTRICTIONS[node_name], f)\n",
    "            print (f\"Uploading install restrictions for {node_name}\")    \n",
    "            node.upload_file('/tmp/'+node_name+'-parameters.json',destination_folder+'/ansible/parameters.json')\n",
    "        else:\n",
    "            extra_ansible_params = ''\n",
    "        if ansible_tags != '':\n",
    "            extra_ansible_params = extra_ansible_params + ' --tags '+ansible_tags\n",
    "        \n",
    "        print (f\"Running the PTP Deployment Ansible Playbook on {node.get_name()}\")\n",
    "        execute_threads[node] = node.execute_thread(\\\n",
    "                    f\"{pre_requisites}\"\\\n",
    "                    f\"{clone_instructions}\"\\\n",
    "                    f\"{ansible_instructions}\"\\\n",
    "                    f\"{extra_ansible_params}\",\\\n",
    "                    output_file=f\"/tmp/{node.get_name()}_ptpinstall.log\"\\\n",
    "                    )\n",
    "\n",
    "        #Wait for results from threads\n",
    "    for node,thread in execute_threads.items():\n",
    "        print(f\"Waiting for result from node {node.get_name()}\")\n",
    "        stdout,stderr = thread.result()\n",
    "\n",
    "    print (f\"Ansible Playbook run on all nodes completed\\n\")\n",
    "    success = True\n",
    "except Exception as e:\n",
    "    print(f\"Exception: {e}\")\n",
    "    success = False\n",
    "    raise SystemExit(\"Stopping notebook execution due to exception\")\n"
   ]
  },
  {
   "cell_type": "markdown",
   "id": "2f4c41eb-50c6-4391-b8fb-38854719502d",
   "metadata": {},
   "source": [
    "## Update State"
   ]
  },
  {
   "cell_type": "code",
   "execution_count": null,
   "id": "0f17f99f-dc0d-47ac-96ea-ae0ecbc87b6e",
   "metadata": {},
   "outputs": [],
   "source": [
    "if success is True:\n",
    "    update_state_local(selected_slice, 'PTP_INSTALLED')\n",
    "    update_state_in_fim(selected_slice, read_state_from_local(selected_slice))\n",
    "else:\n",
    "    print ('State not updated due to error')"
   ]
  }
 ],
 "metadata": {
  "kernelspec": {
   "display_name": "Python 3 (ipykernel)",
   "language": "python",
   "name": "python3"
  },
  "language_info": {
   "codemirror_mode": {
    "name": "ipython",
    "version": 3
   },
   "file_extension": ".py",
   "mimetype": "text/x-python",
   "name": "python",
   "nbconvert_exporter": "python",
   "pygments_lexer": "ipython3",
   "version": "3.10.6"
  }
 },
 "nbformat": 4,
 "nbformat_minor": 5
}
