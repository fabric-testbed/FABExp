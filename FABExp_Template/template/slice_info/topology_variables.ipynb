{
 "cells": [
  {
   "cell_type": "markdown",
   "id": "05407e06-8138-4dd1-80ed-1afb947c7355",
   "metadata": {},
   "source": [
    "# Slice Topology"
   ]
  },
  {
   "cell_type": "code",
   "execution_count": null,
   "id": "c6e8ba1a-b75e-4688-baab-40ee8daa415a",
   "metadata": {},
   "outputs": [],
   "source": [
    "# Topology figure"
   ]
  },
  {
   "cell_type": "markdown",
   "id": "23bc9bfa-43fc-4876-8714-cfc842bfccf8",
   "metadata": {},
   "source": [
    "# Topology Variables"
   ]
  },
  {
   "cell_type": "code",
   "execution_count": null,
   "id": "2f27f9db-5b77-4ee2-a77d-dc8c4dc0be29",
   "metadata": {},
   "outputs": [],
   "source": [
    "# topology variables "
   ]
  }
 ],
 "metadata": {
  "kernelspec": {
   "display_name": "Python 3 (ipykernel)",
   "language": "python",
   "name": "python3"
  },
  "language_info": {
   "codemirror_mode": {
    "name": "ipython",
    "version": 3
   },
   "file_extension": ".py",
   "mimetype": "text/x-python",
   "name": "python",
   "nbconvert_exporter": "python",
   "pygments_lexer": "ipython3",
   "version": "3.10.6"
  }
 },
 "nbformat": 4,
 "nbformat_minor": 5
}
