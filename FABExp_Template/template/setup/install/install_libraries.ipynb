{
 "cells": [
  {
   "cell_type": "markdown",
   "id": "4bbae693-25b0-42fa-ada0-3e575dc484b2",
   "metadata": {},
   "source": [
    "## Install Libraries"
   ]
  },
  {
   "cell_type": "code",
   "execution_count": null,
   "id": "2cd5e38b-b304-40db-9fa8-fe64451fffa0",
   "metadata": {},
   "outputs": [],
   "source": [
    "pip install --upgrade 'google-cloud-bigquery[bqstorage,pandas]'"
   ]
  },
  {
   "cell_type": "code",
   "execution_count": null,
   "id": "b36f5cbf-729e-430b-aaae-ba0f80637de6",
   "metadata": {},
   "outputs": [],
   "source": [
    "pip install 'scapy'"
   ]
  },
  {
   "cell_type": "code",
   "execution_count": null,
   "id": "80c8a324-79e6-4ce9-85e4-013211b5e021",
   "metadata": {},
   "outputs": [],
   "source": [
    "pip install --upgrade 'plotly'"
   ]
  }
 ],
 "metadata": {
  "kernelspec": {
   "display_name": "Python 3 (ipykernel)",
   "language": "python",
   "name": "python3"
  },
  "language_info": {
   "codemirror_mode": {
    "name": "ipython",
    "version": 3
   },
   "file_extension": ".py",
   "mimetype": "text/x-python",
   "name": "python",
   "nbconvert_exporter": "python",
   "pygments_lexer": "ipython3",
   "version": "3.10.6"
  }
 },
 "nbformat": 4,
 "nbformat_minor": 5
}
