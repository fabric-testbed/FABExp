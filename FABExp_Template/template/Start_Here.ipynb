{
 "cells": [
  {
   "cell_type": "code",
   "execution_count": null,
   "id": "187d7230-1fb4-482e-8f47-3320c2444418",
   "metadata": {},
   "outputs": [],
   "source": [
    "import sys\n",
    "import importlib\n",
    "import os\n",
    "module_name = 'ExperimentFramework'\n",
    "module_name1 ='state'\n",
    "for name in [module_name, module_name1]:\n",
    "    if name in sys.modules:\n",
    "        del sys.modules[name]\n",
    "relative_path = \"./std_notebook_lib/exp_framework_lib/\"\n",
    "real_path = os.path.join(os.path.abspath(''), relative_path)\n",
    "relative_path2 = \"./slice_info/\"\n",
    "real_path2 = os.path.join(os.path.abspath(''), relative_path2)\n",
    "sys.path = [path for path in sys.path if relative_path not in path and relative_path2 not in path]\n",
    "if real_path not in sys.path[0]:\n",
    "    sys.path.insert(0, real_path)\n",
    "if real_path2 not in sys.path:\n",
    "    sys.path.append(real_path2)\n",
    "module = importlib.import_module(module_name)\n",
    "importlib.reload(module)\n",
    "\n",
    "\n",
    "from ExperimentFramework import ExperimentFramework\n",
    "\n",
    "if os.environ.get('external') == 'True':\n",
    "    #print ('The notebook is run by external function.')\n",
    "    external=True\n",
    "    EF= ExperimentFramework(src=external)\n",
    "    print ('Experiment Framework version: '+ EF.__version__)\n",
    "else:\n",
    "    #print ('not external')\n",
    "    EF= ExperimentFramework()\n",
    "    print ('Experiment Framework version: '+ EF.__version__)\n",
    "EF.display_gui()"
   ]
  },
  {
   "cell_type": "code",
   "execution_count": null,
   "id": "9fcc865b-1b35-4b81-9f5b-9f7c513a74fa",
   "metadata": {},
   "outputs": [],
   "source": []
  }
 ],
 "metadata": {
  "kernelspec": {
   "display_name": "Python 3 (ipykernel)",
   "language": "python",
   "name": "python3"
  },
  "language_info": {
   "codemirror_mode": {
    "name": "ipython",
    "version": 3
   },
   "file_extension": ".py",
   "mimetype": "text/x-python",
   "name": "python",
   "nbconvert_exporter": "python",
   "pygments_lexer": "ipython3",
   "version": "3.10.6"
  }
 },
 "nbformat": 4,
 "nbformat_minor": 5
}
