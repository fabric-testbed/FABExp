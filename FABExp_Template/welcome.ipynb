{
 "cells": [
  {
   "cell_type": "markdown",
   "id": "d5a32e6f-7a80-4ae2-a97b-b0e0ad831e52",
   "metadata": {},
   "source": [
    "# FABExp"
   ]
  },
  {
   "cell_type": "markdown",
   "id": "e3ac7055-ff86-42e6-8540-1122c38d038a",
   "metadata": {
    "tags": []
   },
   "source": [
    "Welcome to the Experiment Framework.\n",
    "\n",
    "You can use this tool to configure the JupyterHub Environment before running your expriments.\n",
    "\n",
    "You can easily run your experiments, view the output and track the state of your experiments."
   ]
  },
  {
   "cell_type": "code",
   "execution_count": null,
   "id": "3d083ebc-2fc0-49a3-973c-e8e995526d26",
   "metadata": {},
   "outputs": [],
   "source": [
    "import FABExp\n",
    "FABExp.display_gui()"
   ]
  }
 ],
 "metadata": {
  "kernelspec": {
   "display_name": "Python 3 (ipykernel)",
   "language": "python",
   "name": "python3"
  },
  "language_info": {
   "codemirror_mode": {
    "name": "ipython",
    "version": 3
   },
   "file_extension": ".py",
   "mimetype": "text/x-python",
   "name": "python",
   "nbconvert_exporter": "python",
   "pygments_lexer": "ipython3",
   "version": "3.10.6"
  }
 },
 "nbformat": 4,
 "nbformat_minor": 5
}
