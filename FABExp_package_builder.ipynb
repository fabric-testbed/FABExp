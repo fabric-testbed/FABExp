{
 "cells": [
  {
   "cell_type": "markdown",
   "id": "c88187b8-8350-43c1-8686-17504a3a53df",
   "metadata": {},
   "source": [
    "# FABExp Package Builer \n",
    "### This notebook helps users to build the the package of FABExp (FABRIC Experiment Framework) for a specific experiment.\n",
    "### Some fablib api example notebooks have been written and placed in /Experiment_Notebooks/"
   ]
  },
  {
   "cell_type": "code",
   "execution_count": null,
   "id": "bc938100-aa82-463b-923d-8e30a3abfc4b",
   "metadata": {},
   "outputs": [],
   "source": [
    "import os\n",
    "import shutil\n",
    "def fabexp_package_builder(notebooks_dir, package_dir):\n",
    "    \"\"\"\n",
    "    This function copies the template folder to the package_dir\n",
    "    Then move the files to the correspnding path\n",
    "    \"\"\"\n",
    "    if os.path.exists(package_dir):\n",
    "        shutil.rmtree(package_dir)\n",
    "    os.makedirs(package_dir, exist_ok=True)\n",
    "    shutil.copytree(os.path.abspath('./FABExp_Template/'), package_dir, dirs_exist_ok=True)\n",
    "    desired_notebook_names = ['topology_variables.ipynb','define_slice.ipynb', 'submit_slice.ipynb', 'config_slice.ipynb']\n",
    "    files = os.listdir(notebooks_dir)\n",
    "    for f in desired_notebook_names:\n",
    "        if f not in files:\n",
    "            print (f'{f} not in the dir')\n",
    "            return False\n",
    "        \n",
    "    for filename in os.listdir(notebooks_dir):\n",
    "        if (filename != '.ipynb_checkpoints' and filename != '__pycache__'):\n",
    "            file_path = os.path.join(notebooks_dir, filename)\n",
    "            # Check if it's a file and not a directory\n",
    "            if os.path.isfile(file_path):\n",
    "                if (filename in ['topology_variables.ipynb','define_slice.ipynb', 'submit_slice.ipynb']):\n",
    "                    shutil.copy(file_path, os.path.join(package_dir, 'template', 'slice_info'))\n",
    "                elif (filename in ['config_slice.ipynb']):\n",
    "                    shutil.copy(file_path, os.path.join(package_dir, 'template', 'config_and_install_sw'))\n",
    "                else:\n",
    "                    shutil.copy(file_path, os.path.join(package_dir, 'template', 'run_experiment', 'my_experiments'))\n",
    "            elif os.path.isdir(file_path):\n",
    "                shutil.copytree(file_path, os.path.join(package_dir, 'template', 'slice_info', filename), dirs_exist_ok=True)\n",
    "                shutil.copytree(file_path, os.path.join(package_dir, 'template', 'config_and_install_sw', filename), dirs_exist_ok=True)\n",
    "                shutil.copytree(file_path, os.path.join(package_dir, 'template', 'run_experiment', 'my_experiments', filename), dirs_exist_ok=True)\n",
    "            \n",
    "                \n",
    "\n"
   ]
  },
  {
   "cell_type": "code",
   "execution_count": null,
   "id": "c36d080a-307b-4ebd-b682-8ec6bddcdd76",
   "metadata": {},
   "outputs": [],
   "source": [
    "# available experiments at this moment: \n",
    "# ['fablib_hello_fabric', 'fablib_create_l2network_basic_manual', 'fablib_create_l2network_wide_area_manual',\n",
    "# 'fablib_create_l3network_fabnet_ipv4_manual', 'fablib_create_l3network_fabnet_ipv6_manual', 'fablib_persistent_storage',\n",
    "# 'complex_recipes_apache_web_server', 'complex_recipes_iperf3_basic_no_tunning',\n",
    "# 'complex_recipes_openvswitch', 'complex_recipes_p4_bmv2']\n",
    "\n",
    "#selected_exp = 'your_own_experiment'\n",
    "selected_exp = 'complex_recipes_iperf3_basic_no_tunning'\n",
    "dest = '/home/fabric/work/Fabric-Experiment-Framework/fabric_examples'\n",
    "fabexp_package_builder(os.path.abspath(f'./Experiment_Notebooks/{selected_exp}/'),\n",
    "                       f'{dest}/{selected_exp}/')                "
   ]
  }
 ],
 "metadata": {
  "kernelspec": {
   "display_name": "Python 3 (ipykernel)",
   "language": "python",
   "name": "python3"
  },
  "language_info": {
   "codemirror_mode": {
    "name": "ipython",
    "version": 3
   },
   "file_extension": ".py",
   "mimetype": "text/x-python",
   "name": "python",
   "nbconvert_exporter": "python",
   "pygments_lexer": "ipython3",
   "version": "3.10.6"
  }
 },
 "nbformat": 4,
 "nbformat_minor": 5
}
